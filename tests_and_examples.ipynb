{
 "cells": [
  {
   "cell_type": "code",
   "execution_count": 39,
   "id": "b3840076",
   "metadata": {},
   "outputs": [],
   "source": [
    "import numpy as np"
   ]
  },
  {
   "cell_type": "code",
   "execution_count": 54,
   "id": "5fcd389f",
   "metadata": {},
   "outputs": [
    {
     "name": "stdout",
     "output_type": "stream",
     "text": [
      "The autoreload extension is already loaded. To reload it, use:\n",
      "  %reload_ext autoreload\n"
     ]
    }
   ],
   "source": [
    "%load_ext autoreload\n",
    "%autoreload 2"
   ]
  },
  {
   "cell_type": "code",
   "execution_count": 74,
   "id": "6f181fd2",
   "metadata": {},
   "outputs": [],
   "source": [
    "from NeuralNetNLayer import NeuralNet"
   ]
  },
  {
   "cell_type": "code",
   "execution_count": null,
   "id": "f84718bd",
   "metadata": {},
   "outputs": [],
   "source": []
  },
  {
   "cell_type": "markdown",
   "id": "42929ead",
   "metadata": {},
   "source": [
    "**Load in and transform the dataset**"
   ]
  },
  {
   "cell_type": "code",
   "execution_count": 21,
   "id": "3e95b04f",
   "metadata": {},
   "outputs": [],
   "source": [
    "import pandas as pd\n",
    "from sklearn.model_selection import train_test_split\n",
    "from sklearn.preprocessing import StandardScaler\n",
    "np.random.seed(1)"
   ]
  },
  {
   "cell_type": "code",
   "execution_count": 4,
   "id": "5f49632c",
   "metadata": {},
   "outputs": [],
   "source": [
    "df = pd.read_csv('mnist/train.csv')"
   ]
  },
  {
   "cell_type": "code",
   "execution_count": 5,
   "id": "41ef4923",
   "metadata": {},
   "outputs": [
    {
     "data": {
      "text/plain": [
       "1    4684\n",
       "0    4132\n",
       "Name: label, dtype: int64"
      ]
     },
     "execution_count": 5,
     "metadata": {},
     "output_type": "execute_result"
    }
   ],
   "source": [
    "# Keep only the first two numbers (0 and 1) to convert this to binary classification\n",
    "df_two = df[df['label'] <= 1]\n",
    "df_two.label.value_counts()"
   ]
  },
  {
   "cell_type": "code",
   "execution_count": 6,
   "id": "abd9dc98",
   "metadata": {},
   "outputs": [
    {
     "data": {
      "text/html": [
       "<div>\n",
       "<style scoped>\n",
       "    .dataframe tbody tr th:only-of-type {\n",
       "        vertical-align: middle;\n",
       "    }\n",
       "\n",
       "    .dataframe tbody tr th {\n",
       "        vertical-align: top;\n",
       "    }\n",
       "\n",
       "    .dataframe thead th {\n",
       "        text-align: right;\n",
       "    }\n",
       "</style>\n",
       "<table border=\"1\" class=\"dataframe\">\n",
       "  <thead>\n",
       "    <tr style=\"text-align: right;\">\n",
       "      <th></th>\n",
       "      <th>label</th>\n",
       "      <th>pixel0</th>\n",
       "      <th>pixel1</th>\n",
       "      <th>pixel2</th>\n",
       "      <th>pixel3</th>\n",
       "      <th>pixel4</th>\n",
       "      <th>pixel5</th>\n",
       "      <th>pixel6</th>\n",
       "      <th>pixel7</th>\n",
       "      <th>pixel8</th>\n",
       "      <th>...</th>\n",
       "      <th>pixel774</th>\n",
       "      <th>pixel775</th>\n",
       "      <th>pixel776</th>\n",
       "      <th>pixel777</th>\n",
       "      <th>pixel778</th>\n",
       "      <th>pixel779</th>\n",
       "      <th>pixel780</th>\n",
       "      <th>pixel781</th>\n",
       "      <th>pixel782</th>\n",
       "      <th>pixel783</th>\n",
       "    </tr>\n",
       "  </thead>\n",
       "  <tbody>\n",
       "    <tr>\n",
       "      <th>0</th>\n",
       "      <td>1</td>\n",
       "      <td>0</td>\n",
       "      <td>0</td>\n",
       "      <td>0</td>\n",
       "      <td>0</td>\n",
       "      <td>0</td>\n",
       "      <td>0</td>\n",
       "      <td>0</td>\n",
       "      <td>0</td>\n",
       "      <td>0</td>\n",
       "      <td>...</td>\n",
       "      <td>0</td>\n",
       "      <td>0</td>\n",
       "      <td>0</td>\n",
       "      <td>0</td>\n",
       "      <td>0</td>\n",
       "      <td>0</td>\n",
       "      <td>0</td>\n",
       "      <td>0</td>\n",
       "      <td>0</td>\n",
       "      <td>0</td>\n",
       "    </tr>\n",
       "    <tr>\n",
       "      <th>1</th>\n",
       "      <td>0</td>\n",
       "      <td>0</td>\n",
       "      <td>0</td>\n",
       "      <td>0</td>\n",
       "      <td>0</td>\n",
       "      <td>0</td>\n",
       "      <td>0</td>\n",
       "      <td>0</td>\n",
       "      <td>0</td>\n",
       "      <td>0</td>\n",
       "      <td>...</td>\n",
       "      <td>0</td>\n",
       "      <td>0</td>\n",
       "      <td>0</td>\n",
       "      <td>0</td>\n",
       "      <td>0</td>\n",
       "      <td>0</td>\n",
       "      <td>0</td>\n",
       "      <td>0</td>\n",
       "      <td>0</td>\n",
       "      <td>0</td>\n",
       "    </tr>\n",
       "    <tr>\n",
       "      <th>2</th>\n",
       "      <td>1</td>\n",
       "      <td>0</td>\n",
       "      <td>0</td>\n",
       "      <td>0</td>\n",
       "      <td>0</td>\n",
       "      <td>0</td>\n",
       "      <td>0</td>\n",
       "      <td>0</td>\n",
       "      <td>0</td>\n",
       "      <td>0</td>\n",
       "      <td>...</td>\n",
       "      <td>0</td>\n",
       "      <td>0</td>\n",
       "      <td>0</td>\n",
       "      <td>0</td>\n",
       "      <td>0</td>\n",
       "      <td>0</td>\n",
       "      <td>0</td>\n",
       "      <td>0</td>\n",
       "      <td>0</td>\n",
       "      <td>0</td>\n",
       "    </tr>\n",
       "    <tr>\n",
       "      <th>4</th>\n",
       "      <td>0</td>\n",
       "      <td>0</td>\n",
       "      <td>0</td>\n",
       "      <td>0</td>\n",
       "      <td>0</td>\n",
       "      <td>0</td>\n",
       "      <td>0</td>\n",
       "      <td>0</td>\n",
       "      <td>0</td>\n",
       "      <td>0</td>\n",
       "      <td>...</td>\n",
       "      <td>0</td>\n",
       "      <td>0</td>\n",
       "      <td>0</td>\n",
       "      <td>0</td>\n",
       "      <td>0</td>\n",
       "      <td>0</td>\n",
       "      <td>0</td>\n",
       "      <td>0</td>\n",
       "      <td>0</td>\n",
       "      <td>0</td>\n",
       "    </tr>\n",
       "    <tr>\n",
       "      <th>5</th>\n",
       "      <td>0</td>\n",
       "      <td>0</td>\n",
       "      <td>0</td>\n",
       "      <td>0</td>\n",
       "      <td>0</td>\n",
       "      <td>0</td>\n",
       "      <td>0</td>\n",
       "      <td>0</td>\n",
       "      <td>0</td>\n",
       "      <td>0</td>\n",
       "      <td>...</td>\n",
       "      <td>0</td>\n",
       "      <td>0</td>\n",
       "      <td>0</td>\n",
       "      <td>0</td>\n",
       "      <td>0</td>\n",
       "      <td>0</td>\n",
       "      <td>0</td>\n",
       "      <td>0</td>\n",
       "      <td>0</td>\n",
       "      <td>0</td>\n",
       "    </tr>\n",
       "  </tbody>\n",
       "</table>\n",
       "<p>5 rows × 785 columns</p>\n",
       "</div>"
      ],
      "text/plain": [
       "   label  pixel0  pixel1  pixel2  pixel3  pixel4  pixel5  pixel6  pixel7  \\\n",
       "0      1       0       0       0       0       0       0       0       0   \n",
       "1      0       0       0       0       0       0       0       0       0   \n",
       "2      1       0       0       0       0       0       0       0       0   \n",
       "4      0       0       0       0       0       0       0       0       0   \n",
       "5      0       0       0       0       0       0       0       0       0   \n",
       "\n",
       "   pixel8  ...  pixel774  pixel775  pixel776  pixel777  pixel778  pixel779  \\\n",
       "0       0  ...         0         0         0         0         0         0   \n",
       "1       0  ...         0         0         0         0         0         0   \n",
       "2       0  ...         0         0         0         0         0         0   \n",
       "4       0  ...         0         0         0         0         0         0   \n",
       "5       0  ...         0         0         0         0         0         0   \n",
       "\n",
       "   pixel780  pixel781  pixel782  pixel783  \n",
       "0         0         0         0         0  \n",
       "1         0         0         0         0  \n",
       "2         0         0         0         0  \n",
       "4         0         0         0         0  \n",
       "5         0         0         0         0  \n",
       "\n",
       "[5 rows x 785 columns]"
      ]
     },
     "execution_count": 6,
     "metadata": {},
     "output_type": "execute_result"
    }
   ],
   "source": [
    "# Check out the data - pixel values range from 0 to 255\n",
    "df_two.head()"
   ]
  },
  {
   "cell_type": "code",
   "execution_count": 9,
   "id": "e80f807c",
   "metadata": {},
   "outputs": [],
   "source": [
    "# Split into X and y training and validation sets \n",
    "X_train, X_test, y_train, y_test = train_test_split(df_two.drop('label', axis=1), df_two['label'], train_size = 0.67)"
   ]
  },
  {
   "cell_type": "code",
   "execution_count": 32,
   "id": "6efeea48",
   "metadata": {},
   "outputs": [
    {
     "data": {
      "text/plain": [
       "(784, 5906)"
      ]
     },
     "execution_count": 32,
     "metadata": {},
     "output_type": "execute_result"
    }
   ],
   "source": [
    "# Standardize Before transposing (skelearn assumes obs x features format)\n",
    "scaler = StandardScaler()\n",
    "scaler = scaler.fit(X_train)\n",
    "X_s = scaler.transform(X_train)\n",
    "# Transpose X and convert to an array\n",
    "X_t = X_s.T\n",
    "X_t.shape"
   ]
  },
  {
   "cell_type": "code",
   "execution_count": 29,
   "id": "d4d86d15",
   "metadata": {},
   "outputs": [
    {
     "data": {
      "text/plain": [
       "(1, 5906)"
      ]
     },
     "execution_count": 29,
     "metadata": {},
     "output_type": "execute_result"
    }
   ],
   "source": [
    "# Transpose y and convert to an array\n",
    "y_t = y_train.values.reshape(1, len(y_train))\n",
    "y_t.shape"
   ]
  },
  {
   "cell_type": "markdown",
   "id": "ee131ba9",
   "metadata": {},
   "source": [
    "**Create and train the model**"
   ]
  },
  {
   "cell_type": "code",
   "execution_count": null,
   "id": "c5fc56e2",
   "metadata": {},
   "outputs": [],
   "source": [
    "from NeuralNetNLayer import NeuralNet"
   ]
  },
  {
   "cell_type": "code",
   "execution_count": 89,
   "id": "9e0b80e8",
   "metadata": {},
   "outputs": [],
   "source": [
    "# Create and train the model with random initialization\n",
    "clf = NeuralNet(X_ts, y_t, [6, 3, 1])"
   ]
  },
  {
   "cell_type": "code",
   "execution_count": 90,
   "id": "e50e7dbd",
   "metadata": {},
   "outputs": [
    {
     "name": "stdout",
     "output_type": "stream",
     "text": [
      "Iteration: 0 , Cost, Accuracy 0.6931515484101237 47.9004402302743\n",
      "Iteration: 100 , Cost, Accuracy 0.03890550505828735 99.94920419911954\n",
      "Iteration: 200 , Cost, Accuracy 0.014119458725749564 100.0\n",
      "Iteration: 300 , Cost, Accuracy 0.00849792250452857 100.0\n"
     ]
    }
   ],
   "source": [
    "# Train\n",
    "clf.train(0.5, 400)"
   ]
  },
  {
   "cell_type": "code",
   "execution_count": 91,
   "id": "b7b43e5b",
   "metadata": {},
   "outputs": [],
   "source": [
    "# Create and train the model with he initialization and regularization\n",
    "clf_reg = NeuralNet(X_ts, y_t, [6, 3, 1], initialization='he')\n"
   ]
  },
  {
   "cell_type": "code",
   "execution_count": 92,
   "id": "00936ac1",
   "metadata": {
    "scrolled": true
   },
   "outputs": [
    {
     "name": "stdout",
     "output_type": "stream",
     "text": [
      "Iteration: 0 , Cost, Accuracy 0.6158982195925158 47.17236708432103\n",
      "Iteration: 100 , Cost, Accuracy 0.0224070735931505 100.0\n",
      "Iteration: 200 , Cost, Accuracy 0.010984320981792299 100.0\n",
      "Iteration: 300 , Cost, Accuracy 0.00725203808159974 100.0\n",
      "Iteration: 400 , Cost, Accuracy 0.00541335532532747 100.0\n"
     ]
    }
   ],
   "source": [
    "# Train with L2 regularization\n",
    "clf_reg.train(0.5, 500, lambd=0.5)"
   ]
  },
  {
   "cell_type": "markdown",
   "id": "a223defa",
   "metadata": {},
   "source": [
    "**Test accuracy on the validation dataset**"
   ]
  },
  {
   "cell_type": "code",
   "execution_count": 93,
   "id": "0d5c97b9",
   "metadata": {},
   "outputs": [
    {
     "data": {
      "text/plain": [
       "(784, 2910)"
      ]
     },
     "execution_count": 93,
     "metadata": {},
     "output_type": "execute_result"
    }
   ],
   "source": [
    "# Standardize (using the original values) and transform\n",
    "X_s = scaler.transform(X_test)\n",
    "X_v = X_s.T\n",
    "X_v.shape"
   ]
  },
  {
   "cell_type": "code",
   "execution_count": 94,
   "id": "2d8424bf",
   "metadata": {},
   "outputs": [
    {
     "data": {
      "text/plain": [
       "(1, 2910)"
      ]
     },
     "execution_count": 94,
     "metadata": {},
     "output_type": "execute_result"
    }
   ],
   "source": [
    "y_v = y_test.values.reshape(1, len(y_test))\n",
    "y_v.shape"
   ]
  },
  {
   "cell_type": "code",
   "execution_count": 95,
   "id": "e8909cea",
   "metadata": {},
   "outputs": [
    {
     "data": {
      "text/plain": [
       "96.73539518900344"
      ]
     },
     "execution_count": 95,
     "metadata": {},
     "output_type": "execute_result"
    }
   ],
   "source": [
    "clf.validation_accuracy(X_v=X_v, y_v=y_v)"
   ]
  },
  {
   "cell_type": "code",
   "execution_count": 96,
   "id": "fe6f1747",
   "metadata": {},
   "outputs": [
    {
     "data": {
      "text/plain": [
       "97.76632302405498"
      ]
     },
     "execution_count": 96,
     "metadata": {},
     "output_type": "execute_result"
    }
   ],
   "source": [
    "# L2 regularization and he initialization improved validation accuracy\n",
    "clf_reg.validation_accuracy(X_v=X_v, y_v=y_v)"
   ]
  },
  {
   "cell_type": "markdown",
   "id": "a8f05b71",
   "metadata": {},
   "source": [
    "**Forward Propagation**"
   ]
  },
  {
   "cell_type": "code",
   "execution_count": null,
   "id": "69d0a461",
   "metadata": {},
   "outputs": [],
   "source": []
  },
  {
   "cell_type": "markdown",
   "id": "0e621496",
   "metadata": {},
   "source": [
    "**Backpropagation**\n",
    "\n",
    "First initalize the last layer using the derivative of the sigmoid (for 0/1 classification)\n",
    "\n",
    "$dZ = A^{[L]} - y $\n",
    "\n",
    "$dW = \\frac{1}{m}*dZ • A^{[L-1]}$\n",
    "\n",
    "$dB = \\frac{1}{m}*\\sum_{i} dZ $\n",
    "\n",
    "Next calculate dA[L-1] to use in the next layer's dZ\n",
    "\n",
    "$ dA^{[L-1]} = W.T•\\frac{dJ}{dZ}  $"
   ]
  },
  {
   "cell_type": "markdown",
   "id": "400efff3",
   "metadata": {},
   "source": [
    "### Calculus Derivations"
   ]
  },
  {
   "cell_type": "markdown",
   "id": "8f66a7bc",
   "metadata": {},
   "source": [
    "cost function, from:\n",
    "$$J = -\\frac{1}{m} \\sum\\limits_{i = 1}^{m} \\large{(}\\small  y^{(i)}\\log\\left(a^{[L](i)}\\right) + (1-y^{(i)})\\log\\left(1- a^{[L](i)}\\right) \\large{)} \\tag{1}$$"
   ]
  },
  {
   "cell_type": "markdown",
   "id": "7fe80716",
   "metadata": {},
   "source": [
    "**Last Layer L**"
   ]
  },
  {
   "cell_type": "markdown",
   "id": "7642ce0a",
   "metadata": {},
   "source": [
    "\n",
    "\n",
    "$$\\frac{dJ}{dW^{[L]}} =  \\frac{dJ}{dA^{[L]}} \\frac{dA^{[L]}}{dW^{[L]}} $$"
   ]
  },
  {
   "cell_type": "markdown",
   "id": "c9832c97",
   "metadata": {},
   "source": [
    "$$ = \\frac{dJ}{dA^{[L]}} \\frac{dA^{[L]}}{dZ^{[L]}} \\frac{dZ^{[L]}}{dW^{[L]}}$$"
   ]
  },
  {
   "cell_type": "markdown",
   "id": "c544f35b",
   "metadata": {},
   "source": [
    "$$ \\frac{dJ}{dA^{[L]}} = \\frac{y}{A^{[L]}} - \\frac{1-y}{1-A^{[L]}}$$"
   ]
  },
  {
   "cell_type": "markdown",
   "id": "5594b8fc",
   "metadata": {},
   "source": [
    "$$ A^{[L]} = \\sigma(Z^{[L]})   $$  \n"
   ]
  },
  {
   "cell_type": "markdown",
   "id": "671d05de",
   "metadata": {},
   "source": [
    "$$ \\frac{dA^{[L]}}{dZ^{[L]}} =  \\sigma(Z^{[L]})(1-\\sigma(Z^{[L]})) = A^{[L]}(1-A^{[L]}) $$"
   ]
  },
  {
   "cell_type": "markdown",
   "id": "062ec1ab",
   "metadata": {},
   "source": [
    "$$ \\frac{dJ}{dZ^{[L]}} = {dZ^{[L]}} =  \\frac{dJ}{dA^{[L]}} \\frac{dA^{[L]}}{dZ^{[L]}} = \\frac{A^{[L]}(1-A^{[L]})y}{A^{[L]}} - \\frac{A^{[L]}(1-A^{[L]})(1-y)}{1-A^{[L]}}  $$"
   ]
  },
  {
   "cell_type": "markdown",
   "id": "5e156728",
   "metadata": {},
   "source": [
    "$$ = y - A^{[L]}y - A^{[L]} + A^{[L]}y\n",
    "= y - A^{[L]} $$"
   ]
  },
  {
   "cell_type": "markdown",
   "id": "82f289c9",
   "metadata": {},
   "source": [
    "$$ dZ^{[L]} = y - A^{[L]} $$"
   ]
  },
  {
   "cell_type": "markdown",
   "id": "5ad5c47f",
   "metadata": {},
   "source": [
    "$$ Z^{[L]} = W^{[L]}.T•A^{[L-1]} + b^{[L]} $$"
   ]
  },
  {
   "cell_type": "markdown",
   "id": "4224fd94",
   "metadata": {},
   "source": [
    "$$ \\frac{dZ^{[L]}}{dW^{[L]}} = A^{[L-1]}$$"
   ]
  },
  {
   "cell_type": "markdown",
   "id": "f82f2e66",
   "metadata": {},
   "source": [
    "$$ dW^{[L]} = (y - A^{[L]})A^{[L-1]} $$"
   ]
  },
  {
   "cell_type": "markdown",
   "id": "f8c99d31",
   "metadata": {},
   "source": [
    "**Backpropagation Layers**"
   ]
  },
  {
   "cell_type": "markdown",
   "id": "e058bb66",
   "metadata": {},
   "source": [
    "$$\\frac{dJ}{dW^{[l]}} =  \\frac{1}{m}\\frac{dJ}{dA^{[l]}} \\frac{dA^{[l]}}{dZ^{[l]}} \\frac{dZ^{[l]}}{dW^{[l]}}$$ "
   ]
  },
  {
   "cell_type": "markdown",
   "id": "3a6fdd22",
   "metadata": {},
   "source": [
    "In the previous step, calculate the next layers dA\n",
    "\n",
    "$$\\frac{dJ}{dA^{[l]}} = \\frac{dJ}{dZ^{[l+1]}}\\frac{dZ^{[l+1]}}{dA^{[l]}} $$"
   ]
  },
  {
   "cell_type": "markdown",
   "id": "9864aacb",
   "metadata": {},
   "source": [
    "A in terms of Al-1\n",
    "$$ A^{[l+1]} = g(W^{[l+1]T}A^{[l]})  $$"
   ]
  },
  {
   "cell_type": "markdown",
   "id": "976bbafa",
   "metadata": {},
   "source": [
    "Z_l is a function of A_l-1\n",
    "$$ Z^{[l+1]} = W^{[l+1]T}A^{[l]} + b^{[l+1]} $$"
   ]
  },
  {
   "cell_type": "markdown",
   "id": "0f7c69af",
   "metadata": {},
   "source": [
    "$$ \\frac{dZ^{[l+1]}}{dA^{[l]}} = W^{[l+1]T} $$"
   ]
  },
  {
   "cell_type": "markdown",
   "id": "4c1cf5f4",
   "metadata": {},
   "source": [
    "So the layer's calculations can easily give us dAl\n",
    "\n",
    "$$\\frac{dJ}{dA^{[l]}} = W^{[l+1]T} • \\frac{dJ}{dZ^{[l+1]}} $$"
   ]
  },
  {
   "cell_type": "markdown",
   "id": "15041cc0",
   "metadata": {},
   "source": [
    "Now use the dA_l-1 in the next layer (calclute the rest of the things)"
   ]
  },
  {
   "cell_type": "markdown",
   "id": "10502dfa",
   "metadata": {},
   "source": [
    "$$ \\frac{dA^{[l]}}{dZ^{[l]}} = g'(Z^{[l]})$$"
   ]
  },
  {
   "cell_type": "markdown",
   "id": "cc16f92f",
   "metadata": {},
   "source": [
    "$$ \\frac{dZ^{[l]}}{dW^{[l]}} = W^{[l]} $$"
   ]
  },
  {
   "cell_type": "markdown",
   "id": "f1dd7f1e",
   "metadata": {},
   "source": [
    "so putting it all togther\n",
    "\n",
    "$$\\frac{dJ}{dW^{[l]}} =  \\frac{1}{m}\\frac{dJ}{dA^{[l]}} \\frac{dA^{[l]}}{dZ^{[l]}} \\frac{dZ^{[l]}}{dW^{[l]}} = \\frac{1}{m}\\frac{dJ}{dA^{[l]}} g'(Z^{[l]})  W^{[l]}\n",
    "$$ \n",
    "\n",
    "Where dAl was calculated in the previous layer already"
   ]
  },
  {
   "cell_type": "markdown",
   "id": "a3c59e3a",
   "metadata": {},
   "source": [
    "Save the dZ first part of this for use in the next layer:\n",
    "\n",
    "$$ dZ^{[l]} = \\frac{dJ}{dA^{[l]}} \\frac{dA^{[l]}}{dZ^{[l]}} = \n",
    "\\frac{dJ}{dA^{[l]}} g'(Z^{[l]}) $$"
   ]
  },
  {
   "cell_type": "markdown",
   "id": "15e7d40e",
   "metadata": {},
   "source": [
    "- Train on a single example (use L instead of J) is how the math works most easily\n",
    "- Applying the gradient from each sample separately is stochastic gradient descent\n",
    "- Applying all at once is regular gradient descent - extend by taking the average gradient (1/m)*grad\n",
    "- Mini batch is somewhere in between"
   ]
  },
  {
   "cell_type": "markdown",
   "id": "a61cb577",
   "metadata": {},
   "source": [
    "$$ \\frac{dJ}{dA^{[L]}} = \\frac{y}{\\sigma(Z^{[L]})} - \\frac{1-y}{1-\\sigma(Z^{[L]})}$$"
   ]
  }
 ],
 "metadata": {
  "kernelspec": {
   "display_name": "Python 3 (ipykernel)",
   "language": "python",
   "name": "python3"
  },
  "language_info": {
   "codemirror_mode": {
    "name": "ipython",
    "version": 3
   },
   "file_extension": ".py",
   "mimetype": "text/x-python",
   "name": "python",
   "nbconvert_exporter": "python",
   "pygments_lexer": "ipython3",
   "version": "3.9.7"
  }
 },
 "nbformat": 4,
 "nbformat_minor": 5
}
