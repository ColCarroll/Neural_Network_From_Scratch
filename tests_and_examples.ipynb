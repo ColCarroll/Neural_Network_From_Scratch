{
 "cells": [
  {
   "cell_type": "markdown",
   "id": "5b93f9f6",
   "metadata": {},
   "source": [
    "## Test out the neural network algorithm\n",
    "\n",
    "Use the mnist dataset to test out the neural network algo different option. Remove all classes except for 0 and 1 to turn this very simple binary classification problem."
   ]
  },
  {
   "cell_type": "code",
   "execution_count": 18,
   "id": "a90a838b",
   "metadata": {},
   "outputs": [],
   "source": [
    "import numpy as np"
   ]
  },
  {
   "cell_type": "code",
   "execution_count": 19,
   "id": "1770694c",
   "metadata": {},
   "outputs": [
    {
     "name": "stdout",
     "output_type": "stream",
     "text": [
      "The autoreload extension is already loaded. To reload it, use:\n",
      "  %reload_ext autoreload\n"
     ]
    }
   ],
   "source": [
    "%load_ext autoreload\n",
    "%autoreload 2"
   ]
  },
  {
   "cell_type": "code",
   "execution_count": 20,
   "id": "e16777ae",
   "metadata": {},
   "outputs": [],
   "source": [
    "from NeuralNetNLayer import NeuralNet"
   ]
  },
  {
   "cell_type": "markdown",
   "id": "dfb6c2eb",
   "metadata": {},
   "source": [
    "**Load in and standardize the dataset**"
   ]
  },
  {
   "cell_type": "code",
   "execution_count": 3,
   "id": "c3432121",
   "metadata": {},
   "outputs": [],
   "source": [
    "import pandas as pd\n",
    "from sklearn.model_selection import train_test_split\n",
    "from sklearn.preprocessing import StandardScaler\n",
    "import matplotlib.pyplot as plt\n",
    "np.random.seed(1)"
   ]
  },
  {
   "cell_type": "code",
   "execution_count": 7,
   "id": "2f9c5390",
   "metadata": {},
   "outputs": [],
   "source": [
    "df = pd.read_csv('mnist/train.csv')"
   ]
  },
  {
   "cell_type": "code",
   "execution_count": 8,
   "id": "9dec6c80",
   "metadata": {},
   "outputs": [
    {
     "data": {
      "text/plain": [
       "1    4684\n",
       "0    4132\n",
       "Name: label, dtype: int64"
      ]
     },
     "execution_count": 8,
     "metadata": {},
     "output_type": "execute_result"
    }
   ],
   "source": [
    "# Keep only the first two numbers (0 and 1) to convert this to binary classification\n",
    "df_two = df[df['label'] <= 1]\n",
    "df_two.label.value_counts()"
   ]
  },
  {
   "cell_type": "code",
   "execution_count": 95,
   "id": "165b3cc3",
   "metadata": {},
   "outputs": [
    {
     "data": {
      "text/html": [
       "<div>\n",
       "<style scoped>\n",
       "    .dataframe tbody tr th:only-of-type {\n",
       "        vertical-align: middle;\n",
       "    }\n",
       "\n",
       "    .dataframe tbody tr th {\n",
       "        vertical-align: top;\n",
       "    }\n",
       "\n",
       "    .dataframe thead th {\n",
       "        text-align: right;\n",
       "    }\n",
       "</style>\n",
       "<table border=\"1\" class=\"dataframe\">\n",
       "  <thead>\n",
       "    <tr style=\"text-align: right;\">\n",
       "      <th></th>\n",
       "      <th>label</th>\n",
       "      <th>pixel0</th>\n",
       "      <th>pixel1</th>\n",
       "      <th>pixel2</th>\n",
       "      <th>pixel3</th>\n",
       "      <th>pixel4</th>\n",
       "      <th>pixel5</th>\n",
       "      <th>pixel6</th>\n",
       "      <th>pixel7</th>\n",
       "      <th>pixel8</th>\n",
       "      <th>...</th>\n",
       "      <th>pixel774</th>\n",
       "      <th>pixel775</th>\n",
       "      <th>pixel776</th>\n",
       "      <th>pixel777</th>\n",
       "      <th>pixel778</th>\n",
       "      <th>pixel779</th>\n",
       "      <th>pixel780</th>\n",
       "      <th>pixel781</th>\n",
       "      <th>pixel782</th>\n",
       "      <th>pixel783</th>\n",
       "    </tr>\n",
       "  </thead>\n",
       "  <tbody>\n",
       "    <tr>\n",
       "      <th>0</th>\n",
       "      <td>1</td>\n",
       "      <td>0</td>\n",
       "      <td>0</td>\n",
       "      <td>0</td>\n",
       "      <td>0</td>\n",
       "      <td>0</td>\n",
       "      <td>0</td>\n",
       "      <td>0</td>\n",
       "      <td>0</td>\n",
       "      <td>0</td>\n",
       "      <td>...</td>\n",
       "      <td>0</td>\n",
       "      <td>0</td>\n",
       "      <td>0</td>\n",
       "      <td>0</td>\n",
       "      <td>0</td>\n",
       "      <td>0</td>\n",
       "      <td>0</td>\n",
       "      <td>0</td>\n",
       "      <td>0</td>\n",
       "      <td>0</td>\n",
       "    </tr>\n",
       "    <tr>\n",
       "      <th>1</th>\n",
       "      <td>0</td>\n",
       "      <td>0</td>\n",
       "      <td>0</td>\n",
       "      <td>0</td>\n",
       "      <td>0</td>\n",
       "      <td>0</td>\n",
       "      <td>0</td>\n",
       "      <td>0</td>\n",
       "      <td>0</td>\n",
       "      <td>0</td>\n",
       "      <td>...</td>\n",
       "      <td>0</td>\n",
       "      <td>0</td>\n",
       "      <td>0</td>\n",
       "      <td>0</td>\n",
       "      <td>0</td>\n",
       "      <td>0</td>\n",
       "      <td>0</td>\n",
       "      <td>0</td>\n",
       "      <td>0</td>\n",
       "      <td>0</td>\n",
       "    </tr>\n",
       "    <tr>\n",
       "      <th>2</th>\n",
       "      <td>1</td>\n",
       "      <td>0</td>\n",
       "      <td>0</td>\n",
       "      <td>0</td>\n",
       "      <td>0</td>\n",
       "      <td>0</td>\n",
       "      <td>0</td>\n",
       "      <td>0</td>\n",
       "      <td>0</td>\n",
       "      <td>0</td>\n",
       "      <td>...</td>\n",
       "      <td>0</td>\n",
       "      <td>0</td>\n",
       "      <td>0</td>\n",
       "      <td>0</td>\n",
       "      <td>0</td>\n",
       "      <td>0</td>\n",
       "      <td>0</td>\n",
       "      <td>0</td>\n",
       "      <td>0</td>\n",
       "      <td>0</td>\n",
       "    </tr>\n",
       "    <tr>\n",
       "      <th>4</th>\n",
       "      <td>0</td>\n",
       "      <td>0</td>\n",
       "      <td>0</td>\n",
       "      <td>0</td>\n",
       "      <td>0</td>\n",
       "      <td>0</td>\n",
       "      <td>0</td>\n",
       "      <td>0</td>\n",
       "      <td>0</td>\n",
       "      <td>0</td>\n",
       "      <td>...</td>\n",
       "      <td>0</td>\n",
       "      <td>0</td>\n",
       "      <td>0</td>\n",
       "      <td>0</td>\n",
       "      <td>0</td>\n",
       "      <td>0</td>\n",
       "      <td>0</td>\n",
       "      <td>0</td>\n",
       "      <td>0</td>\n",
       "      <td>0</td>\n",
       "    </tr>\n",
       "    <tr>\n",
       "      <th>5</th>\n",
       "      <td>0</td>\n",
       "      <td>0</td>\n",
       "      <td>0</td>\n",
       "      <td>0</td>\n",
       "      <td>0</td>\n",
       "      <td>0</td>\n",
       "      <td>0</td>\n",
       "      <td>0</td>\n",
       "      <td>0</td>\n",
       "      <td>0</td>\n",
       "      <td>...</td>\n",
       "      <td>0</td>\n",
       "      <td>0</td>\n",
       "      <td>0</td>\n",
       "      <td>0</td>\n",
       "      <td>0</td>\n",
       "      <td>0</td>\n",
       "      <td>0</td>\n",
       "      <td>0</td>\n",
       "      <td>0</td>\n",
       "      <td>0</td>\n",
       "    </tr>\n",
       "  </tbody>\n",
       "</table>\n",
       "<p>5 rows × 785 columns</p>\n",
       "</div>"
      ],
      "text/plain": [
       "   label  pixel0  pixel1  pixel2  pixel3  pixel4  pixel5  pixel6  pixel7  \\\n",
       "0      1       0       0       0       0       0       0       0       0   \n",
       "1      0       0       0       0       0       0       0       0       0   \n",
       "2      1       0       0       0       0       0       0       0       0   \n",
       "4      0       0       0       0       0       0       0       0       0   \n",
       "5      0       0       0       0       0       0       0       0       0   \n",
       "\n",
       "   pixel8  ...  pixel774  pixel775  pixel776  pixel777  pixel778  pixel779  \\\n",
       "0       0  ...         0         0         0         0         0         0   \n",
       "1       0  ...         0         0         0         0         0         0   \n",
       "2       0  ...         0         0         0         0         0         0   \n",
       "4       0  ...         0         0         0         0         0         0   \n",
       "5       0  ...         0         0         0         0         0         0   \n",
       "\n",
       "   pixel780  pixel781  pixel782  pixel783  \n",
       "0         0         0         0         0  \n",
       "1         0         0         0         0  \n",
       "2         0         0         0         0  \n",
       "4         0         0         0         0  \n",
       "5         0         0         0         0  \n",
       "\n",
       "[5 rows x 785 columns]"
      ]
     },
     "execution_count": 95,
     "metadata": {},
     "output_type": "execute_result"
    }
   ],
   "source": [
    "# Check out the data\n",
    "df_two.head()"
   ]
  },
  {
   "cell_type": "code",
   "execution_count": 11,
   "id": "a2d6827b",
   "metadata": {},
   "outputs": [],
   "source": [
    "# Split into X and y training and validation sets \n",
    "X_train, X_test, y_train, y_test = train_test_split(df_two.drop('label', axis=1), df_two['label'], train_size = 0.67)"
   ]
  },
  {
   "cell_type": "code",
   "execution_count": 12,
   "id": "f3327d46",
   "metadata": {},
   "outputs": [
    {
     "data": {
      "text/plain": [
       "(784, 5906)"
      ]
     },
     "execution_count": 12,
     "metadata": {},
     "output_type": "execute_result"
    }
   ],
   "source": [
    "# Standardize Before transposing (skelearn assumes obs x features format)\n",
    "scaler = StandardScaler()\n",
    "scaler = scaler.fit(X_train)\n",
    "X_s = scaler.transform(X_train)\n",
    "# Transpose X and convert to an array for compatibility with the neural network\n",
    "# neural network requires features as rows and observations as columns\n",
    "X_t = X_s.T\n",
    "X_t.shape"
   ]
  },
  {
   "cell_type": "code",
   "execution_count": 13,
   "id": "756e8c91",
   "metadata": {},
   "outputs": [
    {
     "data": {
      "text/plain": [
       "(1, 5906)"
      ]
     },
     "execution_count": 13,
     "metadata": {},
     "output_type": "execute_result"
    }
   ],
   "source": [
    "# Transpose y and convert to an array\n",
    "y_t = y_train.values.reshape(1, len(y_train))\n",
    "y_t.shape"
   ]
  },
  {
   "cell_type": "markdown",
   "id": "20ff15b7",
   "metadata": {},
   "source": [
    "**Create and train the test models**"
   ]
  },
  {
   "cell_type": "code",
   "execution_count": 94,
   "id": "c274037e",
   "metadata": {},
   "outputs": [],
   "source": [
    "from NeuralNetNLayer import NeuralNet"
   ]
  },
  {
   "cell_type": "code",
   "execution_count": 88,
   "id": "775c245b",
   "metadata": {},
   "outputs": [],
   "source": [
    "# Create and train a base model with random initialization\n",
    "clf = NeuralNet(X_t, y_t, [6, 3, 1], initialization = 'he', rseed=9)"
   ]
  },
  {
   "cell_type": "code",
   "execution_count": 89,
   "id": "de677c66",
   "metadata": {},
   "outputs": [
    {
     "name": "stdout",
     "output_type": "stream",
     "text": [
      "batch size:  5906\n",
      "Iteration: 0 , Cost, Accuracy, lr:  0.6784773688887491 92.32983406705046 0.3\n",
      "Iteration: 100 , Cost, Accuracy, lr:  0.0026876292734848515 99.96613613274636 0.3\n",
      "Iteration: 200 , Cost, Accuracy, lr:  0.0009797340178566976 100.0 0.3\n",
      "Iteration: 300 , Cost, Accuracy, lr:  0.0005832651822632082 100.0 0.3\n",
      "Iteration: 400 , Cost, Accuracy, lr:  0.00040211886679553376 100.0 0.3\n"
     ]
    }
   ],
   "source": [
    "clf.train(0.3, 500)"
   ]
  },
  {
   "cell_type": "code",
   "execution_count": 86,
   "id": "50628ce8",
   "metadata": {},
   "outputs": [],
   "source": [
    "# Create and train the a deeper model with regularization\n",
    "clf_reg = NeuralNet(X_t, y_t, [6, 4, 4, 1], initialization='he', rseed=9)"
   ]
  },
  {
   "cell_type": "code",
   "execution_count": 87,
   "id": "5d12176e",
   "metadata": {
    "scrolled": true
   },
   "outputs": [
    {
     "name": "stdout",
     "output_type": "stream",
     "text": [
      "batch size:  5906\n",
      "Iteration: 0 , Cost, Accuracy, lr:  0.6458077453967446 88.36776159837454 0.5\n",
      "Iteration: 100 , Cost, Accuracy, lr:  0.023709312532213242 99.98306806637318 0.5\n",
      "Iteration: 200 , Cost, Accuracy, lr:  0.011827699290228581 99.98306806637318 0.5\n",
      "Iteration: 300 , Cost, Accuracy, lr:  0.00782447881528291 100.0 0.5\n",
      "Iteration: 400 , Cost, Accuracy, lr:  0.005937730463556822 100.0 0.5\n"
     ]
    }
   ],
   "source": [
    "clf_reg.train(0.5, 500, lambd=0.2)"
   ]
  },
  {
   "cell_type": "code",
   "execution_count": 43,
   "id": "4d9af65e",
   "metadata": {},
   "outputs": [],
   "source": [
    "# Test training with minibatch and momentum\n",
    "clf_mb = NeuralNet(X_t, y_t, [6, 4, 4, 1], initialization='he', rseed=9)"
   ]
  },
  {
   "cell_type": "code",
   "execution_count": 44,
   "id": "164578a6",
   "metadata": {},
   "outputs": [
    {
     "name": "stdout",
     "output_type": "stream",
     "text": [
      "batch size:  512\n",
      "Iteration: 0 , Cost, Accuracy 0.2790536231403001 99.37351845580766\n",
      "Iteration: 100 , Cost, Accuracy 0.009524371825295563 100.0\n",
      "Iteration: 200 , Cost, Accuracy 0.007050646153984092 100.0\n",
      "Iteration: 300 , Cost, Accuracy 0.005623237898762064 100.0\n",
      "Iteration: 400 , Cost, Accuracy 0.004771801005267266 100.0\n"
     ]
    }
   ],
   "source": [
    "clf_mb.train(0.5, 500, lambd = 0.2, batch_size=512, beta=0.9)"
   ]
  },
  {
   "cell_type": "code",
   "execution_count": 82,
   "id": "89db3050",
   "metadata": {},
   "outputs": [],
   "source": [
    "# add in learning rate decay\n",
    "clf_decay = NeuralNet(X_t, y_t, [6, 4, 4, 1], initialization='he', rseed=9)"
   ]
  },
  {
   "cell_type": "code",
   "execution_count": 83,
   "id": "59a0dc51",
   "metadata": {},
   "outputs": [
    {
     "name": "stdout",
     "output_type": "stream",
     "text": [
      "batch size:  512\n",
      "Iteration: 0 , Cost, Accuracy, lr:  0.22057206159675233 99.55976972570268 1.0\n",
      "Iteration: 100 , Cost, Accuracy, lr:  0.007271494229365515 100.0 1.0\n",
      "Iteration: 200 , Cost, Accuracy, lr:  0.005182296670023927 100.0 0.7692307692307692\n",
      "Iteration: 300 , Cost, Accuracy, lr:  0.004377130083190326 100.0 0.625\n",
      "Iteration: 400 , Cost, Accuracy, lr:  0.003990802480662113 100.0 0.5263157894736842\n"
     ]
    }
   ],
   "source": [
    "clf_decay.train(1.0, 500, lambd = 0.2, batch_size=512, beta=0.9, decay_rate=0.3)"
   ]
  },
  {
   "cell_type": "markdown",
   "id": "aabd70da",
   "metadata": {},
   "source": [
    "**Test accuracy on the validation dataset**"
   ]
  },
  {
   "cell_type": "code",
   "execution_count": 37,
   "id": "17c8d5a2",
   "metadata": {},
   "outputs": [
    {
     "data": {
      "text/plain": [
       "(784, 2910)"
      ]
     },
     "execution_count": 37,
     "metadata": {},
     "output_type": "execute_result"
    }
   ],
   "source": [
    "# Standardize (using the original values) and transform\n",
    "X_s = scaler.transform(X_test)\n",
    "X_v = X_s.T\n",
    "X_v.shape"
   ]
  },
  {
   "cell_type": "code",
   "execution_count": 38,
   "id": "5a6be91e",
   "metadata": {},
   "outputs": [
    {
     "data": {
      "text/plain": [
       "(1, 2910)"
      ]
     },
     "execution_count": 38,
     "metadata": {},
     "output_type": "execute_result"
    }
   ],
   "source": [
    "y_v = y_test.values.reshape(1, len(y_test))\n",
    "y_v.shape"
   ]
  },
  {
   "cell_type": "code",
   "execution_count": 90,
   "id": "30ccf99c",
   "metadata": {},
   "outputs": [
    {
     "data": {
      "text/plain": [
       "99.7594501718213"
      ]
     },
     "execution_count": 90,
     "metadata": {},
     "output_type": "execute_result"
    }
   ],
   "source": [
    "clf.validation_accuracy(X_v=X_v, y_v=y_v)"
   ]
  },
  {
   "cell_type": "code",
   "execution_count": 91,
   "id": "5aa9886a",
   "metadata": {},
   "outputs": [
    {
     "data": {
      "text/plain": [
       "99.65635738831615"
      ]
     },
     "execution_count": 91,
     "metadata": {},
     "output_type": "execute_result"
    }
   ],
   "source": [
    "clf_reg.validation_accuracy(X_v=X_v, y_v=y_v)"
   ]
  },
  {
   "cell_type": "code",
   "execution_count": 92,
   "id": "2c98b603",
   "metadata": {},
   "outputs": [
    {
     "data": {
      "text/plain": [
       "99.93127147766323"
      ]
     },
     "execution_count": 92,
     "metadata": {},
     "output_type": "execute_result"
    }
   ],
   "source": [
    "clf_mb.validation_accuracy(X_v=X_v, y_v=y_v)"
   ]
  },
  {
   "cell_type": "code",
   "execution_count": 93,
   "id": "a4c7e484",
   "metadata": {},
   "outputs": [
    {
     "data": {
      "text/plain": [
       "99.96563573883162"
      ]
     },
     "execution_count": 93,
     "metadata": {},
     "output_type": "execute_result"
    }
   ],
   "source": [
    "clf_decay.validation_accuracy(X_v=X_v, y_v=y_v)"
   ]
  },
  {
   "cell_type": "markdown",
   "id": "5c23d393",
   "metadata": {},
   "source": [
    "## Algorithm and Math Details"
   ]
  },
  {
   "cell_type": "markdown",
   "id": "579b7ac1",
   "metadata": {},
   "source": [
    "### Algorithm Steps"
   ]
  },
  {
   "cell_type": "markdown",
   "id": "066ed13f",
   "metadata": {},
   "source": [
    "**Forward Propagation**"
   ]
  },
  {
   "cell_type": "code",
   "execution_count": null,
   "id": "0d681cf0",
   "metadata": {},
   "outputs": [],
   "source": []
  },
  {
   "cell_type": "markdown",
   "id": "1f588a29",
   "metadata": {},
   "source": [
    "**Backpropagation**\n",
    "\n",
    "First initalize the last layer using the derivative of the sigmoid (for 0/1 classification)\n",
    "\n",
    "$dZ = A^{[L]} - y $\n",
    "\n",
    "$dW = \\frac{1}{m}*dZ • A^{[L-1]}$\n",
    "\n",
    "$dB = \\frac{1}{m}*\\sum_{i} dZ $\n",
    "\n",
    "Next calculate dA[L-1] to use in the next layer's dZ\n",
    "\n",
    "$ dA^{[L-1]} = W.T•\\frac{dJ}{dZ}  $"
   ]
  },
  {
   "cell_type": "markdown",
   "id": "49bb2142",
   "metadata": {},
   "source": [
    "### Calculus Derivations"
   ]
  },
  {
   "cell_type": "markdown",
   "id": "ce471449",
   "metadata": {},
   "source": [
    "cost function, from:\n",
    "$$J = -\\frac{1}{m} \\sum\\limits_{i = 1}^{m} \\large{(}\\small  y^{(i)}\\log\\left(a^{[L](i)}\\right) + (1-y^{(i)})\\log\\left(1- a^{[L](i)}\\right) \\large{)} \\tag{1}$$"
   ]
  },
  {
   "cell_type": "markdown",
   "id": "dbaf4e07",
   "metadata": {},
   "source": [
    "**Last Layer L**"
   ]
  },
  {
   "cell_type": "markdown",
   "id": "0aecd933",
   "metadata": {},
   "source": [
    "\n",
    "\n",
    "$$\\frac{dJ}{dW^{[L]}} =  \\frac{dJ}{dA^{[L]}} \\frac{dA^{[L]}}{dW^{[L]}} $$"
   ]
  },
  {
   "cell_type": "markdown",
   "id": "c7098413",
   "metadata": {},
   "source": [
    "$$ = \\frac{dJ}{dA^{[L]}} \\frac{dA^{[L]}}{dZ^{[L]}} \\frac{dZ^{[L]}}{dW^{[L]}}$$"
   ]
  },
  {
   "cell_type": "markdown",
   "id": "60d4b816",
   "metadata": {},
   "source": [
    "$$ \\frac{dJ}{dA^{[L]}} = \\frac{y}{A^{[L]}} - \\frac{1-y}{1-A^{[L]}}$$"
   ]
  },
  {
   "cell_type": "markdown",
   "id": "4b31c433",
   "metadata": {},
   "source": [
    "$$ A^{[L]} = \\sigma(Z^{[L]})   $$  \n"
   ]
  },
  {
   "cell_type": "markdown",
   "id": "abb46b97",
   "metadata": {},
   "source": [
    "$$ \\frac{dA^{[L]}}{dZ^{[L]}} =  \\sigma(Z^{[L]})(1-\\sigma(Z^{[L]})) = A^{[L]}(1-A^{[L]}) $$"
   ]
  },
  {
   "cell_type": "markdown",
   "id": "bf8b3535",
   "metadata": {},
   "source": [
    "$$ \\frac{dJ}{dZ^{[L]}} = {dZ^{[L]}} =  \\frac{dJ}{dA^{[L]}} \\frac{dA^{[L]}}{dZ^{[L]}} = \\frac{A^{[L]}(1-A^{[L]})y}{A^{[L]}} - \\frac{A^{[L]}(1-A^{[L]})(1-y)}{1-A^{[L]}}  $$"
   ]
  },
  {
   "cell_type": "markdown",
   "id": "818d22b1",
   "metadata": {},
   "source": [
    "$$ = y - A^{[L]}y - A^{[L]} + A^{[L]}y\n",
    "= y - A^{[L]} $$"
   ]
  },
  {
   "cell_type": "markdown",
   "id": "00df31e1",
   "metadata": {},
   "source": [
    "$$ dZ^{[L]} = y - A^{[L]} $$"
   ]
  },
  {
   "cell_type": "markdown",
   "id": "2dc6b367",
   "metadata": {},
   "source": [
    "$$ Z^{[L]} = W^{[L]}.T•A^{[L-1]} + b^{[L]} $$"
   ]
  },
  {
   "cell_type": "markdown",
   "id": "17cdd2a9",
   "metadata": {},
   "source": [
    "$$ \\frac{dZ^{[L]}}{dW^{[L]}} = A^{[L-1]}$$"
   ]
  },
  {
   "cell_type": "markdown",
   "id": "fe12e7c6",
   "metadata": {},
   "source": [
    "$$ dW^{[L]} = (y - A^{[L]})A^{[L-1]} $$"
   ]
  },
  {
   "cell_type": "markdown",
   "id": "c0e7e731",
   "metadata": {},
   "source": [
    "**Backpropagation Layers**"
   ]
  },
  {
   "cell_type": "markdown",
   "id": "2f61b710",
   "metadata": {},
   "source": [
    "$$\\frac{dJ}{dW^{[l]}} =  \\frac{1}{m}\\frac{dJ}{dA^{[l]}} \\frac{dA^{[l]}}{dZ^{[l]}} \\frac{dZ^{[l]}}{dW^{[l]}}$$ "
   ]
  },
  {
   "cell_type": "markdown",
   "id": "1eb45991",
   "metadata": {},
   "source": [
    "In the previous step, calculate the next layers dA using dZ from the previous layer\n",
    "\n",
    "$$\\frac{dJ}{dA^{[l]}} = \\frac{dJ}{dZ^{[l+1]}}\\frac{dZ^{[l+1]}}{dA^{[l]}} $$"
   ]
  },
  {
   "cell_type": "markdown",
   "id": "9a45fb83",
   "metadata": {},
   "source": [
    "A in terms of Al-1\n",
    "$$ A^{[l+1]} = g(W^{[l+1]T}A^{[l]})  $$"
   ]
  },
  {
   "cell_type": "markdown",
   "id": "1a61e921",
   "metadata": {},
   "source": [
    "Z_l is a function of A_l-1\n",
    "$$ Z^{[l+1]} = W^{[l+1]T}A^{[l]} + b^{[l+1]} $$"
   ]
  },
  {
   "cell_type": "markdown",
   "id": "4a6ac301",
   "metadata": {},
   "source": [
    "$$ \\frac{dZ^{[l+1]}}{dA^{[l]}} = W^{[l+1]T} $$"
   ]
  },
  {
   "cell_type": "markdown",
   "id": "a0628095",
   "metadata": {},
   "source": [
    "So the layer's calculations can easily give us dAl\n",
    "\n",
    "$$\\frac{dJ}{dA^{[l]}} = W^{[l+1]T} • \\frac{dJ}{dZ^{[l+1]}} $$"
   ]
  },
  {
   "cell_type": "markdown",
   "id": "92e4ab74",
   "metadata": {},
   "source": [
    "Now use the dA_l-1 in the next layer (calclute the rest of the things)"
   ]
  },
  {
   "cell_type": "markdown",
   "id": "d0aa25ce",
   "metadata": {},
   "source": [
    "$$ \\frac{dA^{[l]}}{dZ^{[l]}} = g'(Z^{[l]})$$"
   ]
  },
  {
   "cell_type": "markdown",
   "id": "36174ccb",
   "metadata": {},
   "source": [
    "$$ \\frac{dZ^{[l]}}{dW^{[l]}} = W^{[l]} $$"
   ]
  },
  {
   "cell_type": "markdown",
   "id": "e5de5dc7",
   "metadata": {},
   "source": [
    "so putting it all togther\n",
    "\n",
    "$$\\frac{dJ}{dW^{[l]}} =  \\frac{1}{m}\\frac{dJ}{dA^{[l]}} \\frac{dA^{[l]}}{dZ^{[l]}} \\frac{dZ^{[l]}}{dW^{[l]}} = \\frac{1}{m}\\frac{dJ}{dA^{[l]}} g'(Z^{[l]})  W^{[l]}\n",
    "$$ \n",
    "\n",
    "Where dAl was calculated in the previous layer already"
   ]
  },
  {
   "cell_type": "markdown",
   "id": "9871909b",
   "metadata": {},
   "source": [
    "Save the dZ first part of this for use in the next layer:\n",
    "\n",
    "$$ dZ^{[l]} = \\frac{dJ}{dA^{[l]}} \\frac{dA^{[l]}}{dZ^{[l]}} = \n",
    "\\frac{dJ}{dA^{[l]}} g'(Z^{[l]}) $$"
   ]
  },
  {
   "cell_type": "markdown",
   "id": "baf29f4a",
   "metadata": {},
   "source": [
    "- Train on a single example (use L instead of J) is how the math works most easily\n",
    "- Applying the gradient from each sample separately is stochastic gradient descent\n",
    "- Applying all at once is regular gradient descent - extend by taking the average gradient (1/m)*grad\n",
    "- Mini batch is somewhere in between"
   ]
  },
  {
   "cell_type": "markdown",
   "id": "7a3d97a1",
   "metadata": {},
   "source": [
    "$$ \\frac{dJ}{dA^{[L]}} = \\frac{y}{\\sigma(Z^{[L]})} - \\frac{1-y}{1-\\sigma(Z^{[L]})}$$"
   ]
  },
  {
   "cell_type": "code",
   "execution_count": 1,
   "id": "2afc380b",
   "metadata": {},
   "outputs": [
    {
     "ename": "SyntaxError",
     "evalue": "Missing parentheses in call to 'print'. Did you mean print(i)? (908402389.py, line 1)",
     "output_type": "error",
     "traceback": [
      "\u001b[0;36m  File \u001b[0;32m\"/var/folders/5d/6bww2f2j7tv53nxs73lm9w9m0000gn/T/ipykernel_9196/908402389.py\"\u001b[0;36m, line \u001b[0;32m1\u001b[0m\n\u001b[0;31m    print i\u001b[0m\n\u001b[0m          ^\u001b[0m\n\u001b[0;31mSyntaxError\u001b[0m\u001b[0;31m:\u001b[0m Missing parentheses in call to 'print'. Did you mean print(i)?\n"
     ]
    }
   ],
   "source": [
    "print i\n"
   ]
  },
  {
   "cell_type": "code",
   "execution_count": 2,
   "id": "297474de",
   "metadata": {},
   "outputs": [
    {
     "name": "stdout",
     "output_type": "stream",
     "text": [
      "5\n"
     ]
    }
   ],
   "source": [
    "i = 5\n",
    "print(i)"
   ]
  },
  {
   "cell_type": "code",
   "execution_count": null,
   "id": "8c89b64d",
   "metadata": {},
   "outputs": [],
   "source": []
  }
 ],
 "metadata": {
  "kernelspec": {
   "display_name": "Python 3 (ipykernel)",
   "language": "python",
   "name": "python3"
  },
  "language_info": {
   "codemirror_mode": {
    "name": "ipython",
    "version": 3
   },
   "file_extension": ".py",
   "mimetype": "text/x-python",
   "name": "python",
   "nbconvert_exporter": "python",
   "pygments_lexer": "ipython3",
   "version": "3.9.7"
  }
 },
 "nbformat": 4,
 "nbformat_minor": 5
}
