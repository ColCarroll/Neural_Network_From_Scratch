{
 "cells": [
  {
   "cell_type": "code",
   "execution_count": 39,
   "id": "5eb1f035",
   "metadata": {},
   "outputs": [],
   "source": [
    "import numpy as np"
   ]
  },
  {
   "cell_type": "code",
   "execution_count": 54,
   "id": "06cac4be",
   "metadata": {},
   "outputs": [
    {
     "name": "stdout",
     "output_type": "stream",
     "text": [
      "The autoreload extension is already loaded. To reload it, use:\n",
      "  %reload_ext autoreload\n"
     ]
    }
   ],
   "source": [
    "%load_ext autoreload\n",
    "%autoreload 2"
   ]
  },
  {
   "cell_type": "code",
   "execution_count": 55,
   "id": "6e420aa3",
   "metadata": {},
   "outputs": [],
   "source": [
    "from NeuralNetNLayer import NeuralNet"
   ]
  },
  {
   "cell_type": "code",
   "execution_count": null,
   "id": "ff4f83ce",
   "metadata": {},
   "outputs": [],
   "source": []
  },
  {
   "cell_type": "markdown",
   "id": "313f5aba",
   "metadata": {},
   "source": [
    "**Load in and transform the dataset**"
   ]
  },
  {
   "cell_type": "code",
   "execution_count": 21,
   "id": "487cfd2d",
   "metadata": {},
   "outputs": [],
   "source": [
    "import pandas as pd\n",
    "from sklearn.model_selection import train_test_split\n",
    "from sklearn.preprocessing import StandardScaler\n",
    "np.random.seed(1)"
   ]
  },
  {
   "cell_type": "code",
   "execution_count": 4,
   "id": "61e74034",
   "metadata": {},
   "outputs": [],
   "source": [
    "df = pd.read_csv('mnist/train.csv')"
   ]
  },
  {
   "cell_type": "code",
   "execution_count": 5,
   "id": "5f041a91",
   "metadata": {},
   "outputs": [
    {
     "data": {
      "text/plain": [
       "1    4684\n",
       "0    4132\n",
       "Name: label, dtype: int64"
      ]
     },
     "execution_count": 5,
     "metadata": {},
     "output_type": "execute_result"
    }
   ],
   "source": [
    "# Keep only the first two numbers (0 and 1) to convert this to binary classification\n",
    "df_two = df[df['label'] <= 1]\n",
    "df_two.label.value_counts()"
   ]
  },
  {
   "cell_type": "code",
   "execution_count": 6,
   "id": "c5ae8dff",
   "metadata": {},
   "outputs": [
    {
     "data": {
      "text/html": [
       "<div>\n",
       "<style scoped>\n",
       "    .dataframe tbody tr th:only-of-type {\n",
       "        vertical-align: middle;\n",
       "    }\n",
       "\n",
       "    .dataframe tbody tr th {\n",
       "        vertical-align: top;\n",
       "    }\n",
       "\n",
       "    .dataframe thead th {\n",
       "        text-align: right;\n",
       "    }\n",
       "</style>\n",
       "<table border=\"1\" class=\"dataframe\">\n",
       "  <thead>\n",
       "    <tr style=\"text-align: right;\">\n",
       "      <th></th>\n",
       "      <th>label</th>\n",
       "      <th>pixel0</th>\n",
       "      <th>pixel1</th>\n",
       "      <th>pixel2</th>\n",
       "      <th>pixel3</th>\n",
       "      <th>pixel4</th>\n",
       "      <th>pixel5</th>\n",
       "      <th>pixel6</th>\n",
       "      <th>pixel7</th>\n",
       "      <th>pixel8</th>\n",
       "      <th>...</th>\n",
       "      <th>pixel774</th>\n",
       "      <th>pixel775</th>\n",
       "      <th>pixel776</th>\n",
       "      <th>pixel777</th>\n",
       "      <th>pixel778</th>\n",
       "      <th>pixel779</th>\n",
       "      <th>pixel780</th>\n",
       "      <th>pixel781</th>\n",
       "      <th>pixel782</th>\n",
       "      <th>pixel783</th>\n",
       "    </tr>\n",
       "  </thead>\n",
       "  <tbody>\n",
       "    <tr>\n",
       "      <th>0</th>\n",
       "      <td>1</td>\n",
       "      <td>0</td>\n",
       "      <td>0</td>\n",
       "      <td>0</td>\n",
       "      <td>0</td>\n",
       "      <td>0</td>\n",
       "      <td>0</td>\n",
       "      <td>0</td>\n",
       "      <td>0</td>\n",
       "      <td>0</td>\n",
       "      <td>...</td>\n",
       "      <td>0</td>\n",
       "      <td>0</td>\n",
       "      <td>0</td>\n",
       "      <td>0</td>\n",
       "      <td>0</td>\n",
       "      <td>0</td>\n",
       "      <td>0</td>\n",
       "      <td>0</td>\n",
       "      <td>0</td>\n",
       "      <td>0</td>\n",
       "    </tr>\n",
       "    <tr>\n",
       "      <th>1</th>\n",
       "      <td>0</td>\n",
       "      <td>0</td>\n",
       "      <td>0</td>\n",
       "      <td>0</td>\n",
       "      <td>0</td>\n",
       "      <td>0</td>\n",
       "      <td>0</td>\n",
       "      <td>0</td>\n",
       "      <td>0</td>\n",
       "      <td>0</td>\n",
       "      <td>...</td>\n",
       "      <td>0</td>\n",
       "      <td>0</td>\n",
       "      <td>0</td>\n",
       "      <td>0</td>\n",
       "      <td>0</td>\n",
       "      <td>0</td>\n",
       "      <td>0</td>\n",
       "      <td>0</td>\n",
       "      <td>0</td>\n",
       "      <td>0</td>\n",
       "    </tr>\n",
       "    <tr>\n",
       "      <th>2</th>\n",
       "      <td>1</td>\n",
       "      <td>0</td>\n",
       "      <td>0</td>\n",
       "      <td>0</td>\n",
       "      <td>0</td>\n",
       "      <td>0</td>\n",
       "      <td>0</td>\n",
       "      <td>0</td>\n",
       "      <td>0</td>\n",
       "      <td>0</td>\n",
       "      <td>...</td>\n",
       "      <td>0</td>\n",
       "      <td>0</td>\n",
       "      <td>0</td>\n",
       "      <td>0</td>\n",
       "      <td>0</td>\n",
       "      <td>0</td>\n",
       "      <td>0</td>\n",
       "      <td>0</td>\n",
       "      <td>0</td>\n",
       "      <td>0</td>\n",
       "    </tr>\n",
       "    <tr>\n",
       "      <th>4</th>\n",
       "      <td>0</td>\n",
       "      <td>0</td>\n",
       "      <td>0</td>\n",
       "      <td>0</td>\n",
       "      <td>0</td>\n",
       "      <td>0</td>\n",
       "      <td>0</td>\n",
       "      <td>0</td>\n",
       "      <td>0</td>\n",
       "      <td>0</td>\n",
       "      <td>...</td>\n",
       "      <td>0</td>\n",
       "      <td>0</td>\n",
       "      <td>0</td>\n",
       "      <td>0</td>\n",
       "      <td>0</td>\n",
       "      <td>0</td>\n",
       "      <td>0</td>\n",
       "      <td>0</td>\n",
       "      <td>0</td>\n",
       "      <td>0</td>\n",
       "    </tr>\n",
       "    <tr>\n",
       "      <th>5</th>\n",
       "      <td>0</td>\n",
       "      <td>0</td>\n",
       "      <td>0</td>\n",
       "      <td>0</td>\n",
       "      <td>0</td>\n",
       "      <td>0</td>\n",
       "      <td>0</td>\n",
       "      <td>0</td>\n",
       "      <td>0</td>\n",
       "      <td>0</td>\n",
       "      <td>...</td>\n",
       "      <td>0</td>\n",
       "      <td>0</td>\n",
       "      <td>0</td>\n",
       "      <td>0</td>\n",
       "      <td>0</td>\n",
       "      <td>0</td>\n",
       "      <td>0</td>\n",
       "      <td>0</td>\n",
       "      <td>0</td>\n",
       "      <td>0</td>\n",
       "    </tr>\n",
       "  </tbody>\n",
       "</table>\n",
       "<p>5 rows × 785 columns</p>\n",
       "</div>"
      ],
      "text/plain": [
       "   label  pixel0  pixel1  pixel2  pixel3  pixel4  pixel5  pixel6  pixel7  \\\n",
       "0      1       0       0       0       0       0       0       0       0   \n",
       "1      0       0       0       0       0       0       0       0       0   \n",
       "2      1       0       0       0       0       0       0       0       0   \n",
       "4      0       0       0       0       0       0       0       0       0   \n",
       "5      0       0       0       0       0       0       0       0       0   \n",
       "\n",
       "   pixel8  ...  pixel774  pixel775  pixel776  pixel777  pixel778  pixel779  \\\n",
       "0       0  ...         0         0         0         0         0         0   \n",
       "1       0  ...         0         0         0         0         0         0   \n",
       "2       0  ...         0         0         0         0         0         0   \n",
       "4       0  ...         0         0         0         0         0         0   \n",
       "5       0  ...         0         0         0         0         0         0   \n",
       "\n",
       "   pixel780  pixel781  pixel782  pixel783  \n",
       "0         0         0         0         0  \n",
       "1         0         0         0         0  \n",
       "2         0         0         0         0  \n",
       "4         0         0         0         0  \n",
       "5         0         0         0         0  \n",
       "\n",
       "[5 rows x 785 columns]"
      ]
     },
     "execution_count": 6,
     "metadata": {},
     "output_type": "execute_result"
    }
   ],
   "source": [
    "# Check out the data - pixel values range from 0 to 255\n",
    "df_two.head()"
   ]
  },
  {
   "cell_type": "code",
   "execution_count": 9,
   "id": "f0c0c136",
   "metadata": {},
   "outputs": [],
   "source": [
    "# Split into X and y training and validation sets \n",
    "X_train, X_test, y_train, y_test = train_test_split(df_two.drop('label', axis=1), df_two['label'], train_size = 0.67)"
   ]
  },
  {
   "cell_type": "code",
   "execution_count": 32,
   "id": "3bd6933d",
   "metadata": {},
   "outputs": [
    {
     "data": {
      "text/plain": [
       "(784, 5906)"
      ]
     },
     "execution_count": 32,
     "metadata": {},
     "output_type": "execute_result"
    }
   ],
   "source": [
    "# Standardize Before transposing (skelearn assumes obs x features format)\n",
    "scaler = StandardScaler()\n",
    "scaler = scaler.fit(X_train)\n",
    "X_s = scaler.transform(X_train)\n",
    "# Transpose X and convert to an array\n",
    "X_t = X_s.T\n",
    "X_t.shape"
   ]
  },
  {
   "cell_type": "code",
   "execution_count": 29,
   "id": "5edf39e6",
   "metadata": {},
   "outputs": [
    {
     "data": {
      "text/plain": [
       "(1, 5906)"
      ]
     },
     "execution_count": 29,
     "metadata": {},
     "output_type": "execute_result"
    }
   ],
   "source": [
    "# Transpose y and convert to an array\n",
    "y_t = y_train.values.reshape(1, len(y_train))\n",
    "y_t.shape"
   ]
  },
  {
   "cell_type": "markdown",
   "id": "206c36eb",
   "metadata": {},
   "source": [
    "**Create and train the model**"
   ]
  },
  {
   "cell_type": "code",
   "execution_count": null,
   "id": "92bb3a2c",
   "metadata": {},
   "outputs": [],
   "source": [
    "from NeuralNetNLayer import NeuralNet"
   ]
  },
  {
   "cell_type": "code",
   "execution_count": 63,
   "id": "ba447dcc",
   "metadata": {},
   "outputs": [],
   "source": [
    "# Create and train the model with random initialization\n",
    "clf = NeuralNet(X_ts, y_t, [6, 3, 1])"
   ]
  },
  {
   "cell_type": "code",
   "execution_count": 64,
   "id": "32b0b95f",
   "metadata": {},
   "outputs": [
    {
     "name": "stdout",
     "output_type": "stream",
     "text": [
      "Iteration: 0 , Cost, Accuracy 0.6931517619264709 45.919403995936335\n",
      "Iteration: 100 , Cost, Accuracy 0.04169892603935247 99.91534033186589\n",
      "Iteration: 200 , Cost, Accuracy 0.014495487932975835 100.0\n",
      "Iteration: 300 , Cost, Accuracy 0.008634985069436647 100.0\n"
     ]
    }
   ],
   "source": [
    "# Train\n",
    "clf.train(0.5, 400)"
   ]
  },
  {
   "cell_type": "code",
   "execution_count": 65,
   "id": "c5c23b7d",
   "metadata": {},
   "outputs": [],
   "source": [
    "# Create and train the model with he initialization\n",
    "clf = NeuralNet(X_ts, y_t, [6, 3, 1], initialization='he')\n"
   ]
  },
  {
   "cell_type": "code",
   "execution_count": 66,
   "id": "96e0714d",
   "metadata": {
    "scrolled": true
   },
   "outputs": [
    {
     "name": "stdout",
     "output_type": "stream",
     "text": [
      "Iteration: 0 , Cost, Accuracy 0.6831172237026311 64.64612258719946\n",
      "Iteration: 100 , Cost, Accuracy 0.0017588937510351784 99.94920419911954\n",
      "Iteration: 200 , Cost, Accuracy 0.0007271216218556305 99.98306806637318\n",
      "Iteration: 300 , Cost, Accuracy 0.00036781624435965716 100.0\n"
     ]
    }
   ],
   "source": [
    "clf.train(0.5, 400)"
   ]
  },
  {
   "cell_type": "markdown",
   "id": "27d786c1",
   "metadata": {},
   "source": [
    "**Test accuracy on the validation dataset**"
   ]
  },
  {
   "cell_type": "code",
   "execution_count": 45,
   "id": "048b10d8",
   "metadata": {},
   "outputs": [
    {
     "data": {
      "text/plain": [
       "(784, 2910)"
      ]
     },
     "execution_count": 45,
     "metadata": {},
     "output_type": "execute_result"
    }
   ],
   "source": [
    "# Standardize (using the original values) and transform\n",
    "X_s = scaler.transform(X_test)\n",
    "X_v = X_s.T\n",
    "X_v.shape"
   ]
  },
  {
   "cell_type": "code",
   "execution_count": 46,
   "id": "8d217c69",
   "metadata": {},
   "outputs": [
    {
     "data": {
      "text/plain": [
       "(1, 2910)"
      ]
     },
     "execution_count": 46,
     "metadata": {},
     "output_type": "execute_result"
    }
   ],
   "source": [
    "y_v = y_test.values.reshape(1, len(y_test))\n",
    "y_v.shape"
   ]
  },
  {
   "cell_type": "code",
   "execution_count": 49,
   "id": "003b259d",
   "metadata": {},
   "outputs": [
    {
     "data": {
      "text/plain": [
       "98.65979381443299"
      ]
     },
     "execution_count": 49,
     "metadata": {},
     "output_type": "execute_result"
    }
   ],
   "source": [
    "clf.validation_accuracy(X_v=X_v, y_v=y_v)"
   ]
  },
  {
   "cell_type": "code",
   "execution_count": null,
   "id": "36765e62",
   "metadata": {},
   "outputs": [],
   "source": []
  },
  {
   "cell_type": "markdown",
   "id": "9166cef9",
   "metadata": {},
   "source": [
    "**Forward Propagation**"
   ]
  },
  {
   "cell_type": "code",
   "execution_count": null,
   "id": "bd86b6cd",
   "metadata": {},
   "outputs": [],
   "source": []
  },
  {
   "cell_type": "markdown",
   "id": "7ba07edd",
   "metadata": {},
   "source": [
    "**Backpropagation**\n",
    "\n",
    "First initalize the last layer using the derivative of the sigmoid (for 0/1 classification)\n",
    "\n",
    "$dZ = A^{[L]} - y $\n",
    "\n",
    "$dW = \\frac{1}{m}*dZ • A^{[L-1]}$\n",
    "\n",
    "$dB = \\frac{1}{m}*\\sum_{i} dZ $\n",
    "\n",
    "Next calculate dA[L-1] to use in the next layer's dZ\n",
    "\n",
    "$ dA^{[L-1]} = W.T•\\frac{dJ}{dZ}  $"
   ]
  },
  {
   "cell_type": "markdown",
   "id": "7b50fe47",
   "metadata": {},
   "source": [
    "### Calculus Derivations"
   ]
  },
  {
   "cell_type": "markdown",
   "id": "c6ff11d5",
   "metadata": {},
   "source": [
    "cost function, from:\n",
    "$$J = -\\frac{1}{m} \\sum\\limits_{i = 1}^{m} \\large{(}\\small  y^{(i)}\\log\\left(a^{[L](i)}\\right) + (1-y^{(i)})\\log\\left(1- a^{[L](i)}\\right) \\large{)} \\tag{1}$$"
   ]
  },
  {
   "cell_type": "markdown",
   "id": "ef5eb376",
   "metadata": {},
   "source": [
    "**Last Layer L**"
   ]
  },
  {
   "cell_type": "markdown",
   "id": "3a4706ef",
   "metadata": {},
   "source": [
    "\n",
    "\n",
    "$$\\frac{dJ}{dW^{[L]}} =  \\frac{dJ}{dA^{[L]}} \\frac{dA^{[L]}}{dW^{[L]}} $$"
   ]
  },
  {
   "cell_type": "markdown",
   "id": "60cfc572",
   "metadata": {},
   "source": [
    "$$ = \\frac{dJ}{dA^{[L]}} \\frac{dA^{[L]}}{dZ^{[L]}} \\frac{dZ^{[L]}}{dW^{[L]}}$$"
   ]
  },
  {
   "cell_type": "markdown",
   "id": "0fdd95be",
   "metadata": {},
   "source": [
    "$$ \\frac{dJ}{dA^{[L]}} = \\frac{y}{A^{[L]}} - \\frac{1-y}{1-A^{[L]}}$$"
   ]
  },
  {
   "cell_type": "markdown",
   "id": "2bc1b201",
   "metadata": {},
   "source": [
    "$$ A^{[L]} = \\sigma(Z^{[L]})   $$  \n"
   ]
  },
  {
   "cell_type": "markdown",
   "id": "174de543",
   "metadata": {},
   "source": [
    "$$ \\frac{dA^{[L]}}{dZ^{[L]}} =  \\sigma(Z^{[L]})(1-\\sigma(Z^{[L]})) = A^{[L]}(1-A^{[L]}) $$"
   ]
  },
  {
   "cell_type": "markdown",
   "id": "b79a6a15",
   "metadata": {},
   "source": [
    "$$ \\frac{dJ}{dZ^{[L]}} = {dZ^{[L]}} =  \\frac{dJ}{dA^{[L]}} \\frac{dA^{[L]}}{dZ^{[L]}} = \\frac{A^{[L]}(1-A^{[L]})y}{A^{[L]}} - \\frac{A^{[L]}(1-A^{[L]})(1-y)}{1-A^{[L]}}  $$"
   ]
  },
  {
   "cell_type": "markdown",
   "id": "1f46fac6",
   "metadata": {},
   "source": [
    "$$ = y - A^{[L]}y - A^{[L]} + A^{[L]}y\n",
    "= y - A^{[L]} $$"
   ]
  },
  {
   "cell_type": "markdown",
   "id": "38c5f946",
   "metadata": {},
   "source": [
    "$$ dZ^{[L]} = y - A^{[L]} $$"
   ]
  },
  {
   "cell_type": "markdown",
   "id": "4442b60f",
   "metadata": {},
   "source": [
    "$$ Z^{[L]} = W^{[L]}.T•A^{[L-1]} + b^{[L]} $$"
   ]
  },
  {
   "cell_type": "markdown",
   "id": "c339a7e9",
   "metadata": {},
   "source": [
    "$$ \\frac{dZ^{[L]}}{dW^{[L]}} = A^{[L-1]}$$"
   ]
  },
  {
   "cell_type": "markdown",
   "id": "e82fd388",
   "metadata": {},
   "source": [
    "$$ dW^{[L]} = (y - A^{[L]})A^{[L-1]} $$"
   ]
  },
  {
   "cell_type": "markdown",
   "id": "6021f26f",
   "metadata": {},
   "source": [
    "**Backpropagation Layers**"
   ]
  },
  {
   "cell_type": "markdown",
   "id": "8ad34e96",
   "metadata": {},
   "source": [
    "$$\\frac{dJ}{dW^{[l]}} =  \\frac{1}{m}\\frac{dJ}{dA^{[l]}} \\frac{dA^{[l]}}{dZ^{[l]}} \\frac{dZ^{[l]}}{dW^{[l]}}$$ "
   ]
  },
  {
   "cell_type": "markdown",
   "id": "2abe7add",
   "metadata": {},
   "source": [
    "In the previous step, calculate the next layers dA\n",
    "\n",
    "$$\\frac{dJ}{dA^{[l]}} = \\frac{dJ}{dZ^{[l+1]}}\\frac{dZ^{[l+1]}}{dA^{[l]}} $$"
   ]
  },
  {
   "cell_type": "markdown",
   "id": "7b107c57",
   "metadata": {},
   "source": [
    "A in terms of Al-1\n",
    "$$ A^{[l+1]} = g(W^{[l+1]T}A^{[l]})  $$"
   ]
  },
  {
   "cell_type": "markdown",
   "id": "f93b6856",
   "metadata": {},
   "source": [
    "Z_l is a function of A_l-1\n",
    "$$ Z^{[l+1]} = W^{[l+1]T}A^{[l]} + b^{[l+1]} $$"
   ]
  },
  {
   "cell_type": "markdown",
   "id": "5909a9cc",
   "metadata": {},
   "source": [
    "$$ \\frac{dZ^{[l+1]}}{dA^{[l]}} = W^{[l+1]T} $$"
   ]
  },
  {
   "cell_type": "markdown",
   "id": "7d944d7b",
   "metadata": {},
   "source": [
    "So the layer's calculations can easily give us dAl\n",
    "\n",
    "$$\\frac{dJ}{dA^{[l]}} = W^{[l+1]T} • \\frac{dJ}{dZ^{[l+1]}} $$"
   ]
  },
  {
   "cell_type": "markdown",
   "id": "16a7b482",
   "metadata": {},
   "source": [
    "Now use the dA_l-1 in the next layer (calclute the rest of the things)"
   ]
  },
  {
   "cell_type": "markdown",
   "id": "de2feada",
   "metadata": {},
   "source": [
    "$$ \\frac{dA^{[l]}}{dZ^{[l]}} = g'(Z^{[l]})$$"
   ]
  },
  {
   "cell_type": "markdown",
   "id": "9a2eeb4c",
   "metadata": {},
   "source": [
    "$$ \\frac{dZ^{[l]}}{dW^{[l]}} = W^{[l]} $$"
   ]
  },
  {
   "cell_type": "markdown",
   "id": "e1124584",
   "metadata": {},
   "source": [
    "so putting it all togther\n",
    "\n",
    "$$\\frac{dJ}{dW^{[l]}} =  \\frac{1}{m}\\frac{dJ}{dA^{[l]}} \\frac{dA^{[l]}}{dZ^{[l]}} \\frac{dZ^{[l]}}{dW^{[l]}} = \\frac{1}{m}\\frac{dJ}{dA^{[l]}} g'(Z^{[l]})  W^{[l]}\n",
    "$$ \n",
    "\n",
    "Where dAl was calculated in the previous layer already"
   ]
  },
  {
   "cell_type": "markdown",
   "id": "95add991",
   "metadata": {},
   "source": [
    "Save the dZ first part of this for use in the next layer:\n",
    "\n",
    "$$ dZ^{[l]} = \\frac{dJ}{dA^{[l]}} \\frac{dA^{[l]}}{dZ^{[l]}} = \n",
    "\\frac{dJ}{dA^{[l]}} g'(Z^{[l]}) $$"
   ]
  },
  {
   "cell_type": "markdown",
   "id": "07089866",
   "metadata": {},
   "source": [
    "- Train on a single example (use L instead of J) is how the math works most easily\n",
    "- Applying the gradient from each sample separately is stochastic gradient descent\n",
    "- Applying all at once is regular gradient descent - extend by taking the average gradient (1/m)*grad\n",
    "- Mini batch is somewhere in between"
   ]
  },
  {
   "cell_type": "markdown",
   "id": "0dd134e5",
   "metadata": {},
   "source": [
    "$$ \\frac{dJ}{dA^{[L]}} = \\frac{y}{\\sigma(Z^{[L]})} - \\frac{1-y}{1-\\sigma(Z^{[L]})}$$"
   ]
  }
 ],
 "metadata": {
  "kernelspec": {
   "display_name": "Python 3 (ipykernel)",
   "language": "python",
   "name": "python3"
  },
  "language_info": {
   "codemirror_mode": {
    "name": "ipython",
    "version": 3
   },
   "file_extension": ".py",
   "mimetype": "text/x-python",
   "name": "python",
   "nbconvert_exporter": "python",
   "pygments_lexer": "ipython3",
   "version": "3.9.7"
  }
 },
 "nbformat": 4,
 "nbformat_minor": 5
}
