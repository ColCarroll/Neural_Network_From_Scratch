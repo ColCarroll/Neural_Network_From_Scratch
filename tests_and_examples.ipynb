{
 "cells": [
  {
   "cell_type": "code",
   "execution_count": 2,
   "id": "a90a838b",
   "metadata": {},
   "outputs": [],
   "source": [
    "import numpy as np"
   ]
  },
  {
   "cell_type": "code",
   "execution_count": 5,
   "id": "1770694c",
   "metadata": {},
   "outputs": [],
   "source": [
    "%load_ext autoreload\n",
    "%autoreload 2"
   ]
  },
  {
   "cell_type": "code",
   "execution_count": 6,
   "id": "e16777ae",
   "metadata": {},
   "outputs": [],
   "source": [
    "from NeuralNetNLayer import NeuralNet"
   ]
  },
  {
   "cell_type": "code",
   "execution_count": null,
   "id": "6f0158cc",
   "metadata": {},
   "outputs": [],
   "source": []
  },
  {
   "cell_type": "markdown",
   "id": "dfb6c2eb",
   "metadata": {},
   "source": [
    "**Load in and transform the dataset**"
   ]
  },
  {
   "cell_type": "code",
   "execution_count": 3,
   "id": "c3432121",
   "metadata": {},
   "outputs": [],
   "source": [
    "import pandas as pd\n",
    "from sklearn.model_selection import train_test_split\n",
    "from sklearn.preprocessing import StandardScaler\n",
    "import matplotlib.pyplot as plt\n",
    "np.random.seed(1)"
   ]
  },
  {
   "cell_type": "code",
   "execution_count": 7,
   "id": "2f9c5390",
   "metadata": {},
   "outputs": [],
   "source": [
    "df = pd.read_csv('mnist/train.csv')"
   ]
  },
  {
   "cell_type": "code",
   "execution_count": 8,
   "id": "9dec6c80",
   "metadata": {},
   "outputs": [
    {
     "data": {
      "text/plain": [
       "1    4684\n",
       "0    4132\n",
       "Name: label, dtype: int64"
      ]
     },
     "execution_count": 8,
     "metadata": {},
     "output_type": "execute_result"
    }
   ],
   "source": [
    "# Keep only the first two numbers (0 and 1) to convert this to binary classification\n",
    "df_two = df[df['label'] <= 1]\n",
    "df_two.label.value_counts()"
   ]
  },
  {
   "cell_type": "code",
   "execution_count": 9,
   "id": "165b3cc3",
   "metadata": {},
   "outputs": [
    {
     "data": {
      "text/html": [
       "<div>\n",
       "<style scoped>\n",
       "    .dataframe tbody tr th:only-of-type {\n",
       "        vertical-align: middle;\n",
       "    }\n",
       "\n",
       "    .dataframe tbody tr th {\n",
       "        vertical-align: top;\n",
       "    }\n",
       "\n",
       "    .dataframe thead th {\n",
       "        text-align: right;\n",
       "    }\n",
       "</style>\n",
       "<table border=\"1\" class=\"dataframe\">\n",
       "  <thead>\n",
       "    <tr style=\"text-align: right;\">\n",
       "      <th></th>\n",
       "      <th>label</th>\n",
       "      <th>pixel0</th>\n",
       "      <th>pixel1</th>\n",
       "      <th>pixel2</th>\n",
       "      <th>pixel3</th>\n",
       "      <th>pixel4</th>\n",
       "      <th>pixel5</th>\n",
       "      <th>pixel6</th>\n",
       "      <th>pixel7</th>\n",
       "      <th>pixel8</th>\n",
       "      <th>...</th>\n",
       "      <th>pixel774</th>\n",
       "      <th>pixel775</th>\n",
       "      <th>pixel776</th>\n",
       "      <th>pixel777</th>\n",
       "      <th>pixel778</th>\n",
       "      <th>pixel779</th>\n",
       "      <th>pixel780</th>\n",
       "      <th>pixel781</th>\n",
       "      <th>pixel782</th>\n",
       "      <th>pixel783</th>\n",
       "    </tr>\n",
       "  </thead>\n",
       "  <tbody>\n",
       "    <tr>\n",
       "      <th>0</th>\n",
       "      <td>1</td>\n",
       "      <td>0</td>\n",
       "      <td>0</td>\n",
       "      <td>0</td>\n",
       "      <td>0</td>\n",
       "      <td>0</td>\n",
       "      <td>0</td>\n",
       "      <td>0</td>\n",
       "      <td>0</td>\n",
       "      <td>0</td>\n",
       "      <td>...</td>\n",
       "      <td>0</td>\n",
       "      <td>0</td>\n",
       "      <td>0</td>\n",
       "      <td>0</td>\n",
       "      <td>0</td>\n",
       "      <td>0</td>\n",
       "      <td>0</td>\n",
       "      <td>0</td>\n",
       "      <td>0</td>\n",
       "      <td>0</td>\n",
       "    </tr>\n",
       "    <tr>\n",
       "      <th>1</th>\n",
       "      <td>0</td>\n",
       "      <td>0</td>\n",
       "      <td>0</td>\n",
       "      <td>0</td>\n",
       "      <td>0</td>\n",
       "      <td>0</td>\n",
       "      <td>0</td>\n",
       "      <td>0</td>\n",
       "      <td>0</td>\n",
       "      <td>0</td>\n",
       "      <td>...</td>\n",
       "      <td>0</td>\n",
       "      <td>0</td>\n",
       "      <td>0</td>\n",
       "      <td>0</td>\n",
       "      <td>0</td>\n",
       "      <td>0</td>\n",
       "      <td>0</td>\n",
       "      <td>0</td>\n",
       "      <td>0</td>\n",
       "      <td>0</td>\n",
       "    </tr>\n",
       "    <tr>\n",
       "      <th>2</th>\n",
       "      <td>1</td>\n",
       "      <td>0</td>\n",
       "      <td>0</td>\n",
       "      <td>0</td>\n",
       "      <td>0</td>\n",
       "      <td>0</td>\n",
       "      <td>0</td>\n",
       "      <td>0</td>\n",
       "      <td>0</td>\n",
       "      <td>0</td>\n",
       "      <td>...</td>\n",
       "      <td>0</td>\n",
       "      <td>0</td>\n",
       "      <td>0</td>\n",
       "      <td>0</td>\n",
       "      <td>0</td>\n",
       "      <td>0</td>\n",
       "      <td>0</td>\n",
       "      <td>0</td>\n",
       "      <td>0</td>\n",
       "      <td>0</td>\n",
       "    </tr>\n",
       "    <tr>\n",
       "      <th>4</th>\n",
       "      <td>0</td>\n",
       "      <td>0</td>\n",
       "      <td>0</td>\n",
       "      <td>0</td>\n",
       "      <td>0</td>\n",
       "      <td>0</td>\n",
       "      <td>0</td>\n",
       "      <td>0</td>\n",
       "      <td>0</td>\n",
       "      <td>0</td>\n",
       "      <td>...</td>\n",
       "      <td>0</td>\n",
       "      <td>0</td>\n",
       "      <td>0</td>\n",
       "      <td>0</td>\n",
       "      <td>0</td>\n",
       "      <td>0</td>\n",
       "      <td>0</td>\n",
       "      <td>0</td>\n",
       "      <td>0</td>\n",
       "      <td>0</td>\n",
       "    </tr>\n",
       "    <tr>\n",
       "      <th>5</th>\n",
       "      <td>0</td>\n",
       "      <td>0</td>\n",
       "      <td>0</td>\n",
       "      <td>0</td>\n",
       "      <td>0</td>\n",
       "      <td>0</td>\n",
       "      <td>0</td>\n",
       "      <td>0</td>\n",
       "      <td>0</td>\n",
       "      <td>0</td>\n",
       "      <td>...</td>\n",
       "      <td>0</td>\n",
       "      <td>0</td>\n",
       "      <td>0</td>\n",
       "      <td>0</td>\n",
       "      <td>0</td>\n",
       "      <td>0</td>\n",
       "      <td>0</td>\n",
       "      <td>0</td>\n",
       "      <td>0</td>\n",
       "      <td>0</td>\n",
       "    </tr>\n",
       "  </tbody>\n",
       "</table>\n",
       "<p>5 rows × 785 columns</p>\n",
       "</div>"
      ],
      "text/plain": [
       "   label  pixel0  pixel1  pixel2  pixel3  pixel4  pixel5  pixel6  pixel7  \\\n",
       "0      1       0       0       0       0       0       0       0       0   \n",
       "1      0       0       0       0       0       0       0       0       0   \n",
       "2      1       0       0       0       0       0       0       0       0   \n",
       "4      0       0       0       0       0       0       0       0       0   \n",
       "5      0       0       0       0       0       0       0       0       0   \n",
       "\n",
       "   pixel8  ...  pixel774  pixel775  pixel776  pixel777  pixel778  pixel779  \\\n",
       "0       0  ...         0         0         0         0         0         0   \n",
       "1       0  ...         0         0         0         0         0         0   \n",
       "2       0  ...         0         0         0         0         0         0   \n",
       "4       0  ...         0         0         0         0         0         0   \n",
       "5       0  ...         0         0         0         0         0         0   \n",
       "\n",
       "   pixel780  pixel781  pixel782  pixel783  \n",
       "0         0         0         0         0  \n",
       "1         0         0         0         0  \n",
       "2         0         0         0         0  \n",
       "4         0         0         0         0  \n",
       "5         0         0         0         0  \n",
       "\n",
       "[5 rows x 785 columns]"
      ]
     },
     "execution_count": 9,
     "metadata": {},
     "output_type": "execute_result"
    }
   ],
   "source": [
    "# Check out the data - pixel values range from 0 to 255\n",
    "df_two.head()"
   ]
  },
  {
   "cell_type": "code",
   "execution_count": 10,
   "id": "c481fd27",
   "metadata": {},
   "outputs": [
    {
     "data": {
      "text/plain": [
       "768"
      ]
     },
     "execution_count": 10,
     "metadata": {},
     "output_type": "execute_result"
    }
   ],
   "source": [
    "256 * 3"
   ]
  },
  {
   "cell_type": "code",
   "execution_count": 11,
   "id": "a2d6827b",
   "metadata": {},
   "outputs": [],
   "source": [
    "# Split into X and y training and validation sets \n",
    "X_train, X_test, y_train, y_test = train_test_split(df_two.drop('label', axis=1), df_two['label'], train_size = 0.67)"
   ]
  },
  {
   "cell_type": "code",
   "execution_count": 12,
   "id": "f3327d46",
   "metadata": {},
   "outputs": [
    {
     "data": {
      "text/plain": [
       "(784, 5906)"
      ]
     },
     "execution_count": 12,
     "metadata": {},
     "output_type": "execute_result"
    }
   ],
   "source": [
    "# Standardize Before transposing (skelearn assumes obs x features format)\n",
    "scaler = StandardScaler()\n",
    "scaler = scaler.fit(X_train)\n",
    "X_s = scaler.transform(X_train)\n",
    "# Transpose X and convert to an array\n",
    "X_t = X_s.T\n",
    "X_t.shape"
   ]
  },
  {
   "cell_type": "code",
   "execution_count": 13,
   "id": "756e8c91",
   "metadata": {},
   "outputs": [
    {
     "data": {
      "text/plain": [
       "(1, 5906)"
      ]
     },
     "execution_count": 13,
     "metadata": {},
     "output_type": "execute_result"
    }
   ],
   "source": [
    "# Transpose y and convert to an array\n",
    "y_t = y_train.values.reshape(1, len(y_train))\n",
    "y_t.shape"
   ]
  },
  {
   "cell_type": "code",
   "execution_count": 14,
   "id": "58e79ae0",
   "metadata": {},
   "outputs": [
    {
     "data": {
      "text/plain": [
       "(5906, 784)"
      ]
     },
     "execution_count": 14,
     "metadata": {},
     "output_type": "execute_result"
    }
   ],
   "source": [
    "X_train.values.shape"
   ]
  },
  {
   "cell_type": "code",
   "execution_count": 17,
   "id": "91ba3a18",
   "metadata": {},
   "outputs": [
    {
     "ename": "TypeError",
     "evalue": "Invalid shape (784,) for image data",
     "output_type": "error",
     "traceback": [
      "\u001b[0;31m---------------------------------------------------------------------------\u001b[0m",
      "\u001b[0;31mTypeError\u001b[0m                                 Traceback (most recent call last)",
      "\u001b[0;32m/var/folders/5d/6bww2f2j7tv53nxs73lm9w9m0000gn/T/ipykernel_14095/107279372.py\u001b[0m in \u001b[0;36m<module>\u001b[0;34m\u001b[0m\n\u001b[1;32m      1\u001b[0m \u001b[0mimg\u001b[0m \u001b[0;34m=\u001b[0m \u001b[0mX_train\u001b[0m\u001b[0;34m.\u001b[0m\u001b[0mvalues\u001b[0m\u001b[0;34m[\u001b[0m\u001b[0;36m23\u001b[0m\u001b[0;34m,\u001b[0m \u001b[0;34m:\u001b[0m\u001b[0;34m]\u001b[0m\u001b[0;34m\u001b[0m\u001b[0;34m\u001b[0m\u001b[0m\n\u001b[0;32m----> 2\u001b[0;31m \u001b[0mplt\u001b[0m\u001b[0;34m.\u001b[0m\u001b[0mimshow\u001b[0m\u001b[0;34m(\u001b[0m\u001b[0mimg\u001b[0m\u001b[0;34m,\u001b[0m \u001b[0mcmap\u001b[0m\u001b[0;34m=\u001b[0m\u001b[0;34m'gray'\u001b[0m\u001b[0;34m)\u001b[0m\u001b[0;34m\u001b[0m\u001b[0;34m\u001b[0m\u001b[0m\n\u001b[0m",
      "\u001b[0;32m/usr/local/lib/python3.9/site-packages/matplotlib/_api/deprecation.py\u001b[0m in \u001b[0;36mwrapper\u001b[0;34m(*args, **kwargs)\u001b[0m\n\u001b[1;32m    454\u001b[0m                 \u001b[0;34m\"parameter will become keyword-only %(removal)s.\"\u001b[0m\u001b[0;34m,\u001b[0m\u001b[0;34m\u001b[0m\u001b[0;34m\u001b[0m\u001b[0m\n\u001b[1;32m    455\u001b[0m                 name=name, obj_type=f\"parameter of {func.__name__}()\")\n\u001b[0;32m--> 456\u001b[0;31m         \u001b[0;32mreturn\u001b[0m \u001b[0mfunc\u001b[0m\u001b[0;34m(\u001b[0m\u001b[0;34m*\u001b[0m\u001b[0margs\u001b[0m\u001b[0;34m,\u001b[0m \u001b[0;34m**\u001b[0m\u001b[0mkwargs\u001b[0m\u001b[0;34m)\u001b[0m\u001b[0;34m\u001b[0m\u001b[0;34m\u001b[0m\u001b[0m\n\u001b[0m\u001b[1;32m    457\u001b[0m \u001b[0;34m\u001b[0m\u001b[0m\n\u001b[1;32m    458\u001b[0m     \u001b[0;31m# Don't modify *func*'s signature, as boilerplate.py needs it.\u001b[0m\u001b[0;34m\u001b[0m\u001b[0;34m\u001b[0m\u001b[0m\n",
      "\u001b[0;32m/usr/local/lib/python3.9/site-packages/matplotlib/pyplot.py\u001b[0m in \u001b[0;36mimshow\u001b[0;34m(X, cmap, norm, aspect, interpolation, alpha, vmin, vmax, origin, extent, interpolation_stage, filternorm, filterrad, resample, url, data, **kwargs)\u001b[0m\n\u001b[1;32m   2638\u001b[0m         \u001b[0minterpolation_stage\u001b[0m\u001b[0;34m=\u001b[0m\u001b[0;32mNone\u001b[0m\u001b[0;34m,\u001b[0m \u001b[0mfilternorm\u001b[0m\u001b[0;34m=\u001b[0m\u001b[0;32mTrue\u001b[0m\u001b[0;34m,\u001b[0m \u001b[0mfilterrad\u001b[0m\u001b[0;34m=\u001b[0m\u001b[0;36m4.0\u001b[0m\u001b[0;34m,\u001b[0m\u001b[0;34m\u001b[0m\u001b[0;34m\u001b[0m\u001b[0m\n\u001b[1;32m   2639\u001b[0m         resample=None, url=None, data=None, **kwargs):\n\u001b[0;32m-> 2640\u001b[0;31m     __ret = gca().imshow(\n\u001b[0m\u001b[1;32m   2641\u001b[0m         \u001b[0mX\u001b[0m\u001b[0;34m,\u001b[0m \u001b[0mcmap\u001b[0m\u001b[0;34m=\u001b[0m\u001b[0mcmap\u001b[0m\u001b[0;34m,\u001b[0m \u001b[0mnorm\u001b[0m\u001b[0;34m=\u001b[0m\u001b[0mnorm\u001b[0m\u001b[0;34m,\u001b[0m \u001b[0maspect\u001b[0m\u001b[0;34m=\u001b[0m\u001b[0maspect\u001b[0m\u001b[0;34m,\u001b[0m\u001b[0;34m\u001b[0m\u001b[0;34m\u001b[0m\u001b[0m\n\u001b[1;32m   2642\u001b[0m         \u001b[0minterpolation\u001b[0m\u001b[0;34m=\u001b[0m\u001b[0minterpolation\u001b[0m\u001b[0;34m,\u001b[0m \u001b[0malpha\u001b[0m\u001b[0;34m=\u001b[0m\u001b[0malpha\u001b[0m\u001b[0;34m,\u001b[0m \u001b[0mvmin\u001b[0m\u001b[0;34m=\u001b[0m\u001b[0mvmin\u001b[0m\u001b[0;34m,\u001b[0m\u001b[0;34m\u001b[0m\u001b[0;34m\u001b[0m\u001b[0m\n",
      "\u001b[0;32m/usr/local/lib/python3.9/site-packages/matplotlib/_api/deprecation.py\u001b[0m in \u001b[0;36mwrapper\u001b[0;34m(*args, **kwargs)\u001b[0m\n\u001b[1;32m    454\u001b[0m                 \u001b[0;34m\"parameter will become keyword-only %(removal)s.\"\u001b[0m\u001b[0;34m,\u001b[0m\u001b[0;34m\u001b[0m\u001b[0;34m\u001b[0m\u001b[0m\n\u001b[1;32m    455\u001b[0m                 name=name, obj_type=f\"parameter of {func.__name__}()\")\n\u001b[0;32m--> 456\u001b[0;31m         \u001b[0;32mreturn\u001b[0m \u001b[0mfunc\u001b[0m\u001b[0;34m(\u001b[0m\u001b[0;34m*\u001b[0m\u001b[0margs\u001b[0m\u001b[0;34m,\u001b[0m \u001b[0;34m**\u001b[0m\u001b[0mkwargs\u001b[0m\u001b[0;34m)\u001b[0m\u001b[0;34m\u001b[0m\u001b[0;34m\u001b[0m\u001b[0m\n\u001b[0m\u001b[1;32m    457\u001b[0m \u001b[0;34m\u001b[0m\u001b[0m\n\u001b[1;32m    458\u001b[0m     \u001b[0;31m# Don't modify *func*'s signature, as boilerplate.py needs it.\u001b[0m\u001b[0;34m\u001b[0m\u001b[0;34m\u001b[0m\u001b[0m\n",
      "\u001b[0;32m/usr/local/lib/python3.9/site-packages/matplotlib/__init__.py\u001b[0m in \u001b[0;36minner\u001b[0;34m(ax, data, *args, **kwargs)\u001b[0m\n\u001b[1;32m   1410\u001b[0m     \u001b[0;32mdef\u001b[0m \u001b[0minner\u001b[0m\u001b[0;34m(\u001b[0m\u001b[0max\u001b[0m\u001b[0;34m,\u001b[0m \u001b[0;34m*\u001b[0m\u001b[0margs\u001b[0m\u001b[0;34m,\u001b[0m \u001b[0mdata\u001b[0m\u001b[0;34m=\u001b[0m\u001b[0;32mNone\u001b[0m\u001b[0;34m,\u001b[0m \u001b[0;34m**\u001b[0m\u001b[0mkwargs\u001b[0m\u001b[0;34m)\u001b[0m\u001b[0;34m:\u001b[0m\u001b[0;34m\u001b[0m\u001b[0;34m\u001b[0m\u001b[0m\n\u001b[1;32m   1411\u001b[0m         \u001b[0;32mif\u001b[0m \u001b[0mdata\u001b[0m \u001b[0;32mis\u001b[0m \u001b[0;32mNone\u001b[0m\u001b[0;34m:\u001b[0m\u001b[0;34m\u001b[0m\u001b[0;34m\u001b[0m\u001b[0m\n\u001b[0;32m-> 1412\u001b[0;31m             \u001b[0;32mreturn\u001b[0m \u001b[0mfunc\u001b[0m\u001b[0;34m(\u001b[0m\u001b[0max\u001b[0m\u001b[0;34m,\u001b[0m \u001b[0;34m*\u001b[0m\u001b[0mmap\u001b[0m\u001b[0;34m(\u001b[0m\u001b[0msanitize_sequence\u001b[0m\u001b[0;34m,\u001b[0m \u001b[0margs\u001b[0m\u001b[0;34m)\u001b[0m\u001b[0;34m,\u001b[0m \u001b[0;34m**\u001b[0m\u001b[0mkwargs\u001b[0m\u001b[0;34m)\u001b[0m\u001b[0;34m\u001b[0m\u001b[0;34m\u001b[0m\u001b[0m\n\u001b[0m\u001b[1;32m   1413\u001b[0m \u001b[0;34m\u001b[0m\u001b[0m\n\u001b[1;32m   1414\u001b[0m         \u001b[0mbound\u001b[0m \u001b[0;34m=\u001b[0m \u001b[0mnew_sig\u001b[0m\u001b[0;34m.\u001b[0m\u001b[0mbind\u001b[0m\u001b[0;34m(\u001b[0m\u001b[0max\u001b[0m\u001b[0;34m,\u001b[0m \u001b[0;34m*\u001b[0m\u001b[0margs\u001b[0m\u001b[0;34m,\u001b[0m \u001b[0;34m**\u001b[0m\u001b[0mkwargs\u001b[0m\u001b[0;34m)\u001b[0m\u001b[0;34m\u001b[0m\u001b[0;34m\u001b[0m\u001b[0m\n",
      "\u001b[0;32m/usr/local/lib/python3.9/site-packages/matplotlib/axes/_axes.py\u001b[0m in \u001b[0;36mimshow\u001b[0;34m(self, X, cmap, norm, aspect, interpolation, alpha, vmin, vmax, origin, extent, interpolation_stage, filternorm, filterrad, resample, url, **kwargs)\u001b[0m\n\u001b[1;32m   5440\u001b[0m                               **kwargs)\n\u001b[1;32m   5441\u001b[0m \u001b[0;34m\u001b[0m\u001b[0m\n\u001b[0;32m-> 5442\u001b[0;31m         \u001b[0mim\u001b[0m\u001b[0;34m.\u001b[0m\u001b[0mset_data\u001b[0m\u001b[0;34m(\u001b[0m\u001b[0mX\u001b[0m\u001b[0;34m)\u001b[0m\u001b[0;34m\u001b[0m\u001b[0;34m\u001b[0m\u001b[0m\n\u001b[0m\u001b[1;32m   5443\u001b[0m         \u001b[0mim\u001b[0m\u001b[0;34m.\u001b[0m\u001b[0mset_alpha\u001b[0m\u001b[0;34m(\u001b[0m\u001b[0malpha\u001b[0m\u001b[0;34m)\u001b[0m\u001b[0;34m\u001b[0m\u001b[0;34m\u001b[0m\u001b[0m\n\u001b[1;32m   5444\u001b[0m         \u001b[0;32mif\u001b[0m \u001b[0mim\u001b[0m\u001b[0;34m.\u001b[0m\u001b[0mget_clip_path\u001b[0m\u001b[0;34m(\u001b[0m\u001b[0;34m)\u001b[0m \u001b[0;32mis\u001b[0m \u001b[0;32mNone\u001b[0m\u001b[0;34m:\u001b[0m\u001b[0;34m\u001b[0m\u001b[0;34m\u001b[0m\u001b[0m\n",
      "\u001b[0;32m/usr/local/lib/python3.9/site-packages/matplotlib/image.py\u001b[0m in \u001b[0;36mset_data\u001b[0;34m(self, A)\u001b[0m\n\u001b[1;32m    713\u001b[0m         if not (self._A.ndim == 2\n\u001b[1;32m    714\u001b[0m                 or self._A.ndim == 3 and self._A.shape[-1] in [3, 4]):\n\u001b[0;32m--> 715\u001b[0;31m             raise TypeError(\"Invalid shape {} for image data\"\n\u001b[0m\u001b[1;32m    716\u001b[0m                             .format(self._A.shape))\n\u001b[1;32m    717\u001b[0m \u001b[0;34m\u001b[0m\u001b[0m\n",
      "\u001b[0;31mTypeError\u001b[0m: Invalid shape (784,) for image data"
     ]
    },
    {
     "data": {
      "image/png": "[encoded data removed]",
      "text/plain": [
       "<Figure size 432x288 with 1 Axes>"
      ]
     },
     "metadata": {
      "needs_background": "light"
     },
     "output_type": "display_data"
    }
   ],
   "source": [
    "img = X_train.values[23, :]\n",
    "plt.imshow(img, cmap='gray')"
   ]
  },
  {
   "cell_type": "markdown",
   "id": "20ff15b7",
   "metadata": {},
   "source": [
    "**Create and train the model**"
   ]
  },
  {
   "cell_type": "code",
   "execution_count": 59,
   "id": "c274037e",
   "metadata": {},
   "outputs": [],
   "source": [
    "from NeuralNetNLayer import NeuralNet"
   ]
  },
  {
   "cell_type": "code",
   "execution_count": 60,
   "id": "775c245b",
   "metadata": {},
   "outputs": [],
   "source": [
    "# Create and train the model with random initialization\n",
    "clf = NeuralNet(X_t, y_t, [6, 3, 1], initialization = 'he', rseed=9)"
   ]
  },
  {
   "cell_type": "code",
   "execution_count": 61,
   "id": "de677c66",
   "metadata": {},
   "outputs": [
    {
     "name": "stdout",
     "output_type": "stream",
     "text": [
      "batch size:  5906\n",
      "Iteration: 0 , Cost, Accuracy 0.6784773688887491 92.32983406705046\n",
      "Iteration: 100 , Cost, Accuracy 0.0026876292734848524 99.96613613274636\n",
      "Iteration: 200 , Cost, Accuracy 0.0009797340178566971 100.0\n",
      "Iteration: 300 , Cost, Accuracy 0.0005832651822632082 100.0\n",
      "Iteration: 400 , Cost, Accuracy 0.00040211886679553344 100.0\n"
     ]
    }
   ],
   "source": [
    "# Train\n",
    "clf.train(0.3, 500)"
   ]
  },
  {
   "cell_type": "code",
   "execution_count": null,
   "id": "a8ce4ee9",
   "metadata": {},
   "outputs": [],
   "source": [
    "Iteration: 0 , Cost, Accuracy 0.6931461445679936 56.010836437521164\n",
    "Iteration: 100 , Cost, Accuracy 0.002636740896900212 99.91534033186589\n",
    "Iteration: 200 , Cost, Accuracy 0.0009706861185968116 99.98306806637318\n",
    "Iteration: 300 , Cost, Accuracy 0.0004884115268586416 100.0\n",
    "Iteration: 400 , Cost, Accuracy 0.0002981384800126158 100.0\n",
    "Iteration: 500 , Cost, Accuracy 0.00020494664657520731 100.0\n",
    "Iteration: 600 , Cost, Accuracy 0.00015198378600915215 100.0\n",
    "Iteration: 700 , Cost, Accuracy 0.00011869752860239252 100.0\n",
    "Iteration: 800 , Cost, Accuracy 9.626666323453143e-05 100.0\n",
    "Iteration: 900 , Cost, Accuracy 8.035432527794746e-05 100.0"
   ]
  },
  {
   "cell_type": "code",
   "execution_count": 45,
   "id": "50628ce8",
   "metadata": {},
   "outputs": [],
   "source": [
    "# Create and train the model with he initialization and regularization\n",
    "clf_reg = NeuralNet(X_t, y_t, [6, 4, 4, 1], initialization='he', rseed=9)\n"
   ]
  },
  {
   "cell_type": "code",
   "execution_count": 46,
   "id": "5d12176e",
   "metadata": {
    "scrolled": true
   },
   "outputs": [
    {
     "name": "stdout",
     "output_type": "stream",
     "text": [
      "batch size:  5906\n",
      "Iteration: 0 , Cost, Accuracy 0.6465630797760066 88.36776159837454\n",
      "Iteration: 100 , Cost, Accuracy 0.024557324290791167 99.98306806637318\n",
      "Iteration: 200 , Cost, Accuracy 0.012698991399595235 99.98306806637318\n",
      "Iteration: 300 , Cost, Accuracy 0.008691416342701125 100.0\n",
      "Iteration: 400 , Cost, Accuracy 0.006799830283246332 100.0\n"
     ]
    }
   ],
   "source": [
    "# Train with L2 regularization and he initialization (converges faster)\n",
    "clf_reg.train(0.5, 500, lambd=0.5)"
   ]
  },
  {
   "cell_type": "code",
   "execution_count": 66,
   "id": "4d9af65e",
   "metadata": {},
   "outputs": [],
   "source": [
    "# Test training with minibatch as a comparison\n",
    "clf_mb = NeuralNet(X_t, y_t, [6, 4, 4, 1], initialization='he', rseed=9)"
   ]
  },
  {
   "cell_type": "code",
   "execution_count": 67,
   "id": "164578a6",
   "metadata": {},
   "outputs": [
    {
     "name": "stdout",
     "output_type": "stream",
     "text": [
      "batch size:  512\n",
      "Iteration: 0 , Cost, Accuracy 0.3198816422522636 99.33965458855401\n",
      "Iteration: 100 , Cost, Accuracy 0.009752611206694536 100.0\n",
      "Iteration: 200 , Cost, Accuracy 0.007120584060973405 100.0\n",
      "Iteration: 300 , Cost, Accuracy 0.005670735212884082 100.0\n",
      "Iteration: 400 , Cost, Accuracy 0.004813409847733941 100.0\n"
     ]
    }
   ],
   "source": [
    "# use minibatch training and momentum\n",
    "clf_mb.train(0.5, 500, lambd = 0.2, batch_size=512, beta=0.9)"
   ]
  },
  {
   "cell_type": "code",
   "execution_count": null,
   "id": "dfe20d9b",
   "metadata": {},
   "outputs": [],
   "source": [
    "Iteration: 0 , Cost, Accuracy 0.7003623421666232 45.851676261429056\n",
    "Iteration: 100 , Cost, Accuracy 0.0008563861218293847 99.98306806637318\n",
    "Iteration: 200 , Cost, Accuracy 0.0003581953651630627 100.0\n",
    "Iteration: 300 , Cost, Accuracy 0.00023849738139563234 100.0\n",
    "Iteration: 400 , Cost, Accuracy 0.00020482161483901352 100.0\n",
    "Iteration: 500 , Cost, Accuracy 0.00018803689291216962 100.0\n",
    "Iteration: 600 , Cost, Accuracy 0.0001779576525541512 100.0\n",
    "Iteration: 700 , Cost, Accuracy 0.0001712395789444225 100.0\n",
    "Iteration: 800 , Cost, Accuracy 0.0001664257219015724 100.0\n",
    "Iteration: 900 , Cost, Accuracy 0.00016281559811327605 100.0"
   ]
  },
  {
   "cell_type": "markdown",
   "id": "aabd70da",
   "metadata": {},
   "source": [
    "**Test accuracy on the validation dataset**"
   ]
  },
  {
   "cell_type": "code",
   "execution_count": 23,
   "id": "17c8d5a2",
   "metadata": {},
   "outputs": [
    {
     "data": {
      "text/plain": [
       "(784, 2910)"
      ]
     },
     "execution_count": 23,
     "metadata": {},
     "output_type": "execute_result"
    }
   ],
   "source": [
    "# Standardize (using the original values) and transform\n",
    "X_s = scaler.transform(X_test)\n",
    "X_v = X_s.T\n",
    "X_v.shape"
   ]
  },
  {
   "cell_type": "code",
   "execution_count": 24,
   "id": "5a6be91e",
   "metadata": {},
   "outputs": [
    {
     "data": {
      "text/plain": [
       "(1, 2910)"
      ]
     },
     "execution_count": 24,
     "metadata": {},
     "output_type": "execute_result"
    }
   ],
   "source": [
    "y_v = y_test.values.reshape(1, len(y_test))\n",
    "y_v.shape"
   ]
  },
  {
   "cell_type": "code",
   "execution_count": 50,
   "id": "30ccf99c",
   "metadata": {},
   "outputs": [
    {
     "data": {
      "text/plain": [
       "70.51546391752578"
      ]
     },
     "execution_count": 50,
     "metadata": {},
     "output_type": "execute_result"
    }
   ],
   "source": [
    "clf.validation_accuracy(X_v=X_v, y_v=y_v)"
   ]
  },
  {
   "cell_type": "code",
   "execution_count": 48,
   "id": "5aa9886a",
   "metadata": {},
   "outputs": [
    {
     "data": {
      "text/plain": [
       "99.65635738831615"
      ]
     },
     "execution_count": 48,
     "metadata": {},
     "output_type": "execute_result"
    }
   ],
   "source": [
    "# L2 regularization and he initialization gives similar validation accuracy in this case\n",
    "clf_reg.validation_accuracy(X_v=X_v, y_v=y_v)"
   ]
  },
  {
   "cell_type": "code",
   "execution_count": 68,
   "id": "2c98b603",
   "metadata": {},
   "outputs": [
    {
     "data": {
      "text/plain": [
       "99.93127147766323"
      ]
     },
     "execution_count": 68,
     "metadata": {},
     "output_type": "execute_result"
    }
   ],
   "source": [
    "clf_mb.validation_accuracy(X_v=X_v, y_v=y_v)"
   ]
  },
  {
   "cell_type": "code",
   "execution_count": null,
   "id": "ba869c24",
   "metadata": {},
   "outputs": [],
   "source": [
    "inline(inspect)"
   ]
  },
  {
   "cell_type": "code",
   "execution_count": null,
   "id": "e8158b89",
   "metadata": {},
   "outputs": [],
   "source": []
  },
  {
   "cell_type": "code",
   "execution_count": null,
   "id": "d458eeb5",
   "metadata": {},
   "outputs": [],
   "source": []
  },
  {
   "cell_type": "markdown",
   "id": "5c23d393",
   "metadata": {},
   "source": [
    "# Algorithm and Math Details"
   ]
  },
  {
   "cell_type": "markdown",
   "id": "579b7ac1",
   "metadata": {},
   "source": [
    "## Algorithm Steps"
   ]
  },
  {
   "cell_type": "markdown",
   "id": "066ed13f",
   "metadata": {},
   "source": [
    "**Forward Propagation**"
   ]
  },
  {
   "cell_type": "code",
   "execution_count": null,
   "id": "0d681cf0",
   "metadata": {},
   "outputs": [],
   "source": []
  },
  {
   "cell_type": "markdown",
   "id": "1f588a29",
   "metadata": {},
   "source": [
    "**Backpropagation**\n",
    "\n",
    "First initalize the last layer using the derivative of the sigmoid (for 0/1 classification)\n",
    "\n",
    "$dZ = A^{[L]} - y $\n",
    "\n",
    "$dW = \\frac{1}{m}*dZ • A^{[L-1]}$\n",
    "\n",
    "$dB = \\frac{1}{m}*\\sum_{i} dZ $\n",
    "\n",
    "Next calculate dA[L-1] to use in the next layer's dZ\n",
    "\n",
    "$ dA^{[L-1]} = W.T•\\frac{dJ}{dZ}  $"
   ]
  },
  {
   "cell_type": "markdown",
   "id": "49bb2142",
   "metadata": {},
   "source": [
    "### Calculus Derivations"
   ]
  },
  {
   "cell_type": "markdown",
   "id": "ce471449",
   "metadata": {},
   "source": [
    "cost function, from:\n",
    "$$J = -\\frac{1}{m} \\sum\\limits_{i = 1}^{m} \\large{(}\\small  y^{(i)}\\log\\left(a^{[L](i)}\\right) + (1-y^{(i)})\\log\\left(1- a^{[L](i)}\\right) \\large{)} \\tag{1}$$"
   ]
  },
  {
   "cell_type": "markdown",
   "id": "dbaf4e07",
   "metadata": {},
   "source": [
    "**Last Layer L**"
   ]
  },
  {
   "cell_type": "markdown",
   "id": "0aecd933",
   "metadata": {},
   "source": [
    "\n",
    "\n",
    "$$\\frac{dJ}{dW^{[L]}} =  \\frac{dJ}{dA^{[L]}} \\frac{dA^{[L]}}{dW^{[L]}} $$"
   ]
  },
  {
   "cell_type": "markdown",
   "id": "c7098413",
   "metadata": {},
   "source": [
    "$$ = \\frac{dJ}{dA^{[L]}} \\frac{dA^{[L]}}{dZ^{[L]}} \\frac{dZ^{[L]}}{dW^{[L]}}$$"
   ]
  },
  {
   "cell_type": "markdown",
   "id": "60d4b816",
   "metadata": {},
   "source": [
    "$$ \\frac{dJ}{dA^{[L]}} = \\frac{y}{A^{[L]}} - \\frac{1-y}{1-A^{[L]}}$$"
   ]
  },
  {
   "cell_type": "markdown",
   "id": "4b31c433",
   "metadata": {},
   "source": [
    "$$ A^{[L]} = \\sigma(Z^{[L]})   $$  \n"
   ]
  },
  {
   "cell_type": "markdown",
   "id": "abb46b97",
   "metadata": {},
   "source": [
    "$$ \\frac{dA^{[L]}}{dZ^{[L]}} =  \\sigma(Z^{[L]})(1-\\sigma(Z^{[L]})) = A^{[L]}(1-A^{[L]}) $$"
   ]
  },
  {
   "cell_type": "markdown",
   "id": "bf8b3535",
   "metadata": {},
   "source": [
    "$$ \\frac{dJ}{dZ^{[L]}} = {dZ^{[L]}} =  \\frac{dJ}{dA^{[L]}} \\frac{dA^{[L]}}{dZ^{[L]}} = \\frac{A^{[L]}(1-A^{[L]})y}{A^{[L]}} - \\frac{A^{[L]}(1-A^{[L]})(1-y)}{1-A^{[L]}}  $$"
   ]
  },
  {
   "cell_type": "markdown",
   "id": "818d22b1",
   "metadata": {},
   "source": [
    "$$ = y - A^{[L]}y - A^{[L]} + A^{[L]}y\n",
    "= y - A^{[L]} $$"
   ]
  },
  {
   "cell_type": "markdown",
   "id": "00df31e1",
   "metadata": {},
   "source": [
    "$$ dZ^{[L]} = y - A^{[L]} $$"
   ]
  },
  {
   "cell_type": "markdown",
   "id": "2dc6b367",
   "metadata": {},
   "source": [
    "$$ Z^{[L]} = W^{[L]}.T•A^{[L-1]} + b^{[L]} $$"
   ]
  },
  {
   "cell_type": "markdown",
   "id": "17cdd2a9",
   "metadata": {},
   "source": [
    "$$ \\frac{dZ^{[L]}}{dW^{[L]}} = A^{[L-1]}$$"
   ]
  },
  {
   "cell_type": "markdown",
   "id": "fe12e7c6",
   "metadata": {},
   "source": [
    "$$ dW^{[L]} = (y - A^{[L]})A^{[L-1]} $$"
   ]
  },
  {
   "cell_type": "markdown",
   "id": "c0e7e731",
   "metadata": {},
   "source": [
    "**Backpropagation Layers**"
   ]
  },
  {
   "cell_type": "markdown",
   "id": "2f61b710",
   "metadata": {},
   "source": [
    "$$\\frac{dJ}{dW^{[l]}} =  \\frac{1}{m}\\frac{dJ}{dA^{[l]}} \\frac{dA^{[l]}}{dZ^{[l]}} \\frac{dZ^{[l]}}{dW^{[l]}}$$ "
   ]
  },
  {
   "cell_type": "markdown",
   "id": "1eb45991",
   "metadata": {},
   "source": [
    "In the previous step, calculate the next layers dA using dZ from the previous layer\n",
    "\n",
    "$$\\frac{dJ}{dA^{[l]}} = \\frac{dJ}{dZ^{[l+1]}}\\frac{dZ^{[l+1]}}{dA^{[l]}} $$"
   ]
  },
  {
   "cell_type": "markdown",
   "id": "9a45fb83",
   "metadata": {},
   "source": [
    "A in terms of Al-1\n",
    "$$ A^{[l+1]} = g(W^{[l+1]T}A^{[l]})  $$"
   ]
  },
  {
   "cell_type": "markdown",
   "id": "1a61e921",
   "metadata": {},
   "source": [
    "Z_l is a function of A_l-1\n",
    "$$ Z^{[l+1]} = W^{[l+1]T}A^{[l]} + b^{[l+1]} $$"
   ]
  },
  {
   "cell_type": "markdown",
   "id": "4a6ac301",
   "metadata": {},
   "source": [
    "$$ \\frac{dZ^{[l+1]}}{dA^{[l]}} = W^{[l+1]T} $$"
   ]
  },
  {
   "cell_type": "markdown",
   "id": "a0628095",
   "metadata": {},
   "source": [
    "So the layer's calculations can easily give us dAl\n",
    "\n",
    "$$\\frac{dJ}{dA^{[l]}} = W^{[l+1]T} • \\frac{dJ}{dZ^{[l+1]}} $$"
   ]
  },
  {
   "cell_type": "markdown",
   "id": "92e4ab74",
   "metadata": {},
   "source": [
    "Now use the dA_l-1 in the next layer (calclute the rest of the things)"
   ]
  },
  {
   "cell_type": "markdown",
   "id": "d0aa25ce",
   "metadata": {},
   "source": [
    "$$ \\frac{dA^{[l]}}{dZ^{[l]}} = g'(Z^{[l]})$$"
   ]
  },
  {
   "cell_type": "markdown",
   "id": "36174ccb",
   "metadata": {},
   "source": [
    "$$ \\frac{dZ^{[l]}}{dW^{[l]}} = W^{[l]} $$"
   ]
  },
  {
   "cell_type": "markdown",
   "id": "e5de5dc7",
   "metadata": {},
   "source": [
    "so putting it all togther\n",
    "\n",
    "$$\\frac{dJ}{dW^{[l]}} =  \\frac{1}{m}\\frac{dJ}{dA^{[l]}} \\frac{dA^{[l]}}{dZ^{[l]}} \\frac{dZ^{[l]}}{dW^{[l]}} = \\frac{1}{m}\\frac{dJ}{dA^{[l]}} g'(Z^{[l]})  W^{[l]}\n",
    "$$ \n",
    "\n",
    "Where dAl was calculated in the previous layer already"
   ]
  },
  {
   "cell_type": "markdown",
   "id": "9871909b",
   "metadata": {},
   "source": [
    "Save the dZ first part of this for use in the next layer:\n",
    "\n",
    "$$ dZ^{[l]} = \\frac{dJ}{dA^{[l]}} \\frac{dA^{[l]}}{dZ^{[l]}} = \n",
    "\\frac{dJ}{dA^{[l]}} g'(Z^{[l]}) $$"
   ]
  },
  {
   "cell_type": "markdown",
   "id": "baf29f4a",
   "metadata": {},
   "source": [
    "- Train on a single example (use L instead of J) is how the math works most easily\n",
    "- Applying the gradient from each sample separately is stochastic gradient descent\n",
    "- Applying all at once is regular gradient descent - extend by taking the average gradient (1/m)*grad\n",
    "- Mini batch is somewhere in between"
   ]
  },
  {
   "cell_type": "markdown",
   "id": "7a3d97a1",
   "metadata": {},
   "source": [
    "$$ \\frac{dJ}{dA^{[L]}} = \\frac{y}{\\sigma(Z^{[L]})} - \\frac{1-y}{1-\\sigma(Z^{[L]})}$$"
   ]
  },
  {
   "cell_type": "code",
   "execution_count": 1,
   "id": "2afc380b",
   "metadata": {},
   "outputs": [
    {
     "ename": "SyntaxError",
     "evalue": "Missing parentheses in call to 'print'. Did you mean print(i)? (908402389.py, line 1)",
     "output_type": "error",
     "traceback": [
      "\u001b[0;36m  File \u001b[0;32m\"/var/folders/5d/6bww2f2j7tv53nxs73lm9w9m0000gn/T/ipykernel_9196/908402389.py\"\u001b[0;36m, line \u001b[0;32m1\u001b[0m\n\u001b[0;31m    print i\u001b[0m\n\u001b[0m          ^\u001b[0m\n\u001b[0;31mSyntaxError\u001b[0m\u001b[0;31m:\u001b[0m Missing parentheses in call to 'print'. Did you mean print(i)?\n"
     ]
    }
   ],
   "source": [
    "print i\n"
   ]
  },
  {
   "cell_type": "code",
   "execution_count": 2,
   "id": "297474de",
   "metadata": {},
   "outputs": [
    {
     "name": "stdout",
     "output_type": "stream",
     "text": [
      "5\n"
     ]
    }
   ],
   "source": [
    "i = 5\n",
    "print(i)"
   ]
  },
  {
   "cell_type": "code",
   "execution_count": null,
   "id": "8c89b64d",
   "metadata": {},
   "outputs": [],
   "source": []
  }
 ],
 "metadata": {
  "kernelspec": {
   "display_name": "Python 3 (ipykernel)",
   "language": "python",
   "name": "python3"
  },
  "language_info": {
   "codemirror_mode": {
    "name": "ipython",
    "version": 3
   },
   "file_extension": ".py",
   "mimetype": "text/x-python",
   "name": "python",
   "nbconvert_exporter": "python",
   "pygments_lexer": "ipython3",
   "version": "3.9.7"
  }
 },
 "nbformat": 4,
 "nbformat_minor": 5
}
